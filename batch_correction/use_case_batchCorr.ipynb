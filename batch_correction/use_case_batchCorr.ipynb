{
 "cells": [
  {
   "cell_type": "code",
   "execution_count": null,
   "id": "f0ed4d28",
   "metadata": {},
   "outputs": [],
   "source": [
    "# -*- coding: utf-8 -*-\n",
    "\"\"\"\n",
    "Created on Sat Oct 16 12:56:10 2021\n",
    "\n",
    "@author: Sameitos\n",
    "\"\"\"\n",
    "\n",
    "'''\n",
    "Needed packages:\n",
    "    pythorch: 1.9.0 or up versions\n",
    "    numpy 1.21 or upper versions\n",
    "'''"
   ]
  },
  {
   "cell_type": "code",
   "execution_count": null,
   "id": "4c2c040d",
   "metadata": {},
   "outputs": [],
   "source": [
    "import warnings\n",
    "warnings.filterwarnings('ignore')\n",
    "\n",
    "import anndata as ad\n",
    "import numpy as np\n",
    "from feature_fining import reducer\n",
    "from umap import UMAP\n",
    "import matplotlib.pyplot as plt"
   ]
  },
  {
   "cell_type": "code",
   "execution_count": null,
   "id": "497a14f0",
   "metadata": {},
   "outputs": [],
   "source": [
    "#data import\n",
    "gex_train = ad.read_h5ad('$HOME/data/phase1-data/match_modality/'\n",
    "                    'openproblems_bmmc_multiome_phase1_rna/'\n",
    "                    'openproblems_bmmc_multiome_phase1_rna.censor_dataset.output_train_mod1.h5ad')"
   ]
  },
  {
   "cell_type": "code",
   "execution_count": null,
   "id": "e69e26b7",
   "metadata": {},
   "outputs": [],
   "source": [
    "#select some nodes\n",
    "gex = np.concatenate((gex_train.X[:500,:].toarray(), gex_train.X[-500:,:].toarray()),axis = 0)\n",
    "gex_train = np.concatenate((gex, gex_train.X[9500:10000:,:].toarray()),axis = 0)"
   ]
  },
  {
   "cell_type": "code",
   "execution_count": null,
   "id": "ad9a717f",
   "metadata": {},
   "outputs": [],
   "source": [
    "#feature fining process: dimension reduction and batch correction\n",
    "features  = reducer(out_dim = 128,epochs = 100).train(gex_train)"
   ]
  },
  {
   "cell_type": "code",
   "execution_count": null,
   "id": "09eaf199",
   "metadata": {},
   "outputs": [],
   "source": [
    "#unfit data\n",
    "gex = gex_train\n",
    "umap_2d = UMAP(n_components=2, init='random', random_state=0)\n",
    "proj_2d = umap_2d.fit_transform(gex)\n",
    "\n",
    "plt.scatter(proj_2d[:,0],proj_2d[:,1])\n",
    "plt.xlabel('umap-1')\n",
    "plt.ylabel('umap-2')\n",
    "plt.title(\"no batch correction\")"
   ]
  },
  {
   "cell_type": "code",
   "execution_count": null,
   "id": "997131ac",
   "metadata": {},
   "outputs": [],
   "source": [
    "#fitted data\n",
    "features = features.detach().numpy()\n",
    "umap_b = UMAP(n_components=2, init='random', random_state=0)\n",
    "proj_b = umap_b.fit_transform(features)\n",
    "\n",
    "plt.scatter(proj_b[:,0],proj_b[:,1])\n",
    "plt.xlabel('umap-1')\n",
    "plt.ylabel('umap-2')\n",
    "plt.title(\"corrected batch\")"
   ]
  }
 ],
 "metadata": {
  "kernelspec": {
   "display_name": "Python 3 (ipykernel)",
   "language": "python",
   "name": "python3"
  },
  "language_info": {
   "codemirror_mode": {
    "name": "ipython",
    "version": 3
   },
   "file_extension": ".py",
   "mimetype": "text/x-python",
   "name": "python",
   "nbconvert_exporter": "python",
   "pygments_lexer": "ipython3",
   "version": "3.7.6"
  }
 },
 "nbformat": 4,
 "nbformat_minor": 5
}
