{
 "cells": [
  {
   "cell_type": "code",
   "execution_count": 9,
   "id": "5423be25-c2e4-4f89-906a-eb6d658b90c8",
   "metadata": {
    "execution": {
     "iopub.execute_input": "2021-08-26T19:09:05.337129Z",
     "iopub.status.busy": "2021-08-26T19:09:05.336897Z",
     "iopub.status.idle": "2021-08-26T19:09:05.340516Z",
     "shell.execute_reply": "2021-08-26T19:09:05.339754Z",
     "shell.execute_reply.started": "2021-08-26T19:09:05.337106Z"
    },
    "tags": []
   },
   "outputs": [],
   "source": [
    "import scanpy as sc\n",
    "import pandas as pd\n",
    "import numpy as np\n",
    "from scipy.sparse import csc_matrix"
   ]
  },
  {
   "cell_type": "code",
   "execution_count": 10,
   "id": "375236af-f401-45bf-9e37-c38398b0579b",
   "metadata": {
    "execution": {
     "iopub.execute_input": "2021-08-26T19:09:05.466739Z",
     "iopub.status.busy": "2021-08-26T19:09:05.466509Z",
     "iopub.status.idle": "2021-08-26T19:09:05.469741Z",
     "shell.execute_reply": "2021-08-26T19:09:05.469064Z",
     "shell.execute_reply.started": "2021-08-26T19:09:05.466719Z"
    },
    "tags": []
   },
   "outputs": [],
   "source": [
    "pd.options.display.max_columns=100\n",
    "pd.options.display.max_rows=100"
   ]
  },
  {
   "cell_type": "code",
   "execution_count": 11,
   "id": "47e7961e-5866-42a9-8b90-26cf6e19d3b2",
   "metadata": {
    "execution": {
     "iopub.execute_input": "2021-08-26T19:09:05.632063Z",
     "iopub.status.busy": "2021-08-26T19:09:05.631823Z",
     "iopub.status.idle": "2021-08-26T19:09:06.428875Z",
     "shell.execute_reply": "2021-08-26T19:09:06.428114Z",
     "shell.execute_reply.started": "2021-08-26T19:09:05.632038Z"
    },
    "tags": []
   },
   "outputs": [
    {
     "name": "stdout",
     "output_type": "stream",
     "text": [
      "donor1_atac_processed.h5ad  s1d2_atac_processed.h5ad  s2d4_atac_processed.h5ad\n",
      "donor1_rna_processed.h5ad   s1d2_rna_processed.h5ad   s2d4_rna_processed.h5ad\n",
      "merged\t\t\t    s1d3_atac_processed.h5ad  s2d5_atac_processed.h5ad\n",
      "multiome\t\t    s1d3_rna_processed.h5ad   s2d5_rna_processed.h5ad\n"
     ]
    }
   ],
   "source": [
    "!ls ../../../data/"
   ]
  },
  {
   "cell_type": "markdown",
   "id": "af02c718-7cc6-4d9a-9fcc-c4bde1b287cb",
   "metadata": {},
   "source": [
    "# Input data"
   ]
  },
  {
   "cell_type": "markdown",
   "id": "4ad15082-b576-4de4-903d-8d9f6b31ccc2",
   "metadata": {},
   "source": [
    "Load data via:\n",
    "\n",
    "ATAC:\n",
    "```\n",
    "aws s3 cp s3://openproblems-bio/neurips2021/site1/production/donor01.lot3054455/atac/processed/donor1_atac_processed.h5ad .\n",
    "aws s3 cp s3://openproblems-bio/neurips2021/site1/production/donor02.lot3054129/atac/processed/s1d2_atac_processed.h5ad .\n",
    "aws s3 cp s3://openproblems-bio/neurips2021/site1/production/donor03.lot3054716/atac/processed/s1d3_atac_processed.h5ad .\n",
    "aws s3 cp s3://openproblems-bio/neurips2021/site2/production/donor04.lot3051683/atac/processed/s2d4_atac_processed.h5ad .\n",
    "aws s3 cp s3://openproblems-bio/neurips2021/site2/production/donor05.lot3054457/atac/processed/s2d5_atac_processed.h5ad .\n",
    "```\n",
    "\n",
    "RNA:\n",
    "```\n",
    "aws s3 cp s3://openproblems-bio/neurips2021/site1/production/donor01.lot3054455/atac/processed/donor1_rna_processed.h5ad .\n",
    "aws s3 cp s3://openproblems-bio/neurips2021/site1/production/donor02.lot3054129/atac/processed/s1d2_rna_processed.h5ad .\n",
    "aws s3 cp s3://openproblems-bio/neurips2021/site1/production/donor03.lot3054716/atac/processed/s1d3_rna_processed.h5ad .\n",
    "aws s3 cp s3://openproblems-bio/neurips2021/site2/production/donor04.lot3051683/atac/processed/s2d4_rna_processed.h5ad .\n",
    "aws s3 cp s3://openproblems-bio/neurips2021/site2/production/donor05.lot3054457/atac/processed/s2d5_rna_processed.h5ad .\n",
    "```\n"
   ]
  },
  {
   "cell_type": "code",
   "execution_count": 12,
   "id": "3f029846-e608-4bbb-b2da-8fd8ef1a67ac",
   "metadata": {
    "execution": {
     "iopub.execute_input": "2021-08-26T19:09:06.430489Z",
     "iopub.status.busy": "2021-08-26T19:09:06.430270Z",
     "iopub.status.idle": "2021-08-26T19:09:06.434263Z",
     "shell.execute_reply": "2021-08-26T19:09:06.433659Z",
     "shell.execute_reply.started": "2021-08-26T19:09:06.430465Z"
    },
    "tags": []
   },
   "outputs": [],
   "source": [
    "#data file dictionaries\n",
    "data_files_rna = {\n",
    "    's1d1':'../../../data/donor1_rna_processed.h5ad',\n",
    "    's1d2':'../../../data/s1d2_rna_processed.h5ad',\n",
    "    's1d3':'../../../data/s1d3_rna_processed.h5ad',\n",
    "    's2d4':'../../../data/s2d4_rna_processed.h5ad',\n",
    "    's2d5':'../../../data/s2d5_rna_processed.h5ad',\n",
    "}\n",
    "\n",
    "data_files_atac = {\n",
    "    's1d1':'../../../data/donor1_atac_processed.h5ad',\n",
    "    's1d2':'../../../data/s1d2_atac_processed.h5ad',\n",
    "    's1d3':'../../../data/s1d3_atac_processed.h5ad',\n",
    "    's2d4':'../../../data/s2d4_atac_processed.h5ad',\n",
    "    's2d5':'../../../data/s2d5_atac_processed.h5ad',\n",
    "}\n",
    "\n",
    "rna_output_filename = '../../../data/merged/Multiome_gex_processed.h5ad'\n",
    "atac_output_filename = '../../../data/merged/Multiome_atac_processed.h5ad'"
   ]
  },
  {
   "cell_type": "code",
   "execution_count": 13,
   "id": "c95a0742-4e3a-4d62-9c4b-cd2960464653",
   "metadata": {
    "execution": {
     "iopub.execute_input": "2021-08-26T19:09:06.435978Z",
     "iopub.status.busy": "2021-08-26T19:09:06.435721Z",
     "iopub.status.idle": "2021-08-26T19:09:06.439437Z",
     "shell.execute_reply": "2021-08-26T19:09:06.438790Z",
     "shell.execute_reply.started": "2021-08-26T19:09:06.435938Z"
    },
    "tags": []
   },
   "outputs": [],
   "source": [
    "samples = list(data_files_rna.keys())"
   ]
  },
  {
   "cell_type": "markdown",
   "id": "019761cc-b6de-4920-8314-3e6a04388dc7",
   "metadata": {},
   "source": [
    "# Read files"
   ]
  },
  {
   "cell_type": "code",
   "execution_count": 14,
   "id": "5f8d7431-9eb6-4acf-a10e-1930e248459e",
   "metadata": {
    "execution": {
     "iopub.execute_input": "2021-08-26T19:09:07.543515Z",
     "iopub.status.busy": "2021-08-26T19:09:07.543284Z",
     "iopub.status.idle": "2021-08-26T19:09:08.645300Z",
     "shell.execute_reply": "2021-08-26T19:09:08.644755Z",
     "shell.execute_reply.started": "2021-08-26T19:09:07.543495Z"
    },
    "tags": []
   },
   "outputs": [],
   "source": [
    "rna_dict = dict()\n",
    "\n",
    "for k in data_files_rna.keys():\n",
    "    rna_dict[k] = sc.read(data_files_rna[k])\n"
   ]
  },
  {
   "cell_type": "code",
   "execution_count": 15,
   "id": "479e840d-e254-47d2-820a-45428024e6dd",
   "metadata": {
    "execution": {
     "iopub.execute_input": "2021-08-26T19:09:08.646531Z",
     "iopub.status.busy": "2021-08-26T19:09:08.646329Z",
     "iopub.status.idle": "2021-08-26T19:09:10.517800Z",
     "shell.execute_reply": "2021-08-26T19:09:10.517186Z",
     "shell.execute_reply.started": "2021-08-26T19:09:08.646510Z"
    },
    "tags": []
   },
   "outputs": [],
   "source": [
    "atac_dict = dict()\n",
    "\n",
    "for k in data_files_atac.keys():\n",
    "    atac_dict[k] = sc.read(data_files_atac[k])\n"
   ]
  },
  {
   "cell_type": "markdown",
   "id": "f914643a-dfe5-4806-88ee-11b8f0d40c2d",
   "metadata": {},
   "source": [
    "# Filter objects if needed"
   ]
  },
  {
   "cell_type": "markdown",
   "id": "01952481-d461-401d-9309-835f41095cd0",
   "metadata": {},
   "source": [
    "## GEX"
   ]
  },
  {
   "cell_type": "code",
   "execution_count": 16,
   "id": "5fe6fcc4-fbc4-4e97-a363-e99da13f5551",
   "metadata": {
    "execution": {
     "iopub.execute_input": "2021-08-26T19:09:10.519527Z",
     "iopub.status.busy": "2021-08-26T19:09:10.519234Z",
     "iopub.status.idle": "2021-08-26T19:09:10.526632Z",
     "shell.execute_reply": "2021-08-26T19:09:10.525931Z",
     "shell.execute_reply.started": "2021-08-26T19:09:10.519494Z"
    },
    "tags": []
   },
   "outputs": [
    {
     "data": {
      "text/plain": [
       "{'s1d1': AnnData object with n_obs × n_vars = 6224 × 17813\n",
       "     obs: 'n_genes_by_counts', 'pct_counts_mt', 'n_counts', 'n_genes', 'size_factors', 'phase', 'leiden_final', 'atac_ann', 'cell_type', 'pseudotime_order_GEX'\n",
       "     var: 'gene_ids', 'feature_types', 'genome', 'n_cells', 'highly_variable'\n",
       "     uns: 'hvg', 'neighbors', 'pca', 'rg_res0.5_4sub', 'rg_res0.5_msub3', 'umap'\n",
       "     obsm: 'X_pca', 'X_umap'\n",
       "     varm: 'PCs'\n",
       "     layers: 'counts'\n",
       "     obsp: 'connectivities', 'distances',\n",
       " 's1d2': AnnData object with n_obs × n_vars = 6740 × 16946\n",
       "     obs: 'n_genes_by_counts', 'pct_counts_mt', 'n_counts', 'n_genes', 'size_factors', 'phase', 'leiden_final', 'atac_ann', 'cell_type', 'pseudotime_order_GEX'\n",
       "     var: 'gene_ids', 'feature_types', 'genome', 'n_cells', 'highly_variable'\n",
       "     uns: 'hvg', 'neighbors', 'pca', 'umap'\n",
       "     obsm: 'X_pca', 'X_umap'\n",
       "     varm: 'PCs'\n",
       "     layers: 'counts'\n",
       "     obsp: 'connectivities', 'distances',\n",
       " 's1d3': AnnData object with n_obs × n_vars = 4279 × 15832\n",
       "     obs: 'n_genes_by_counts', 'pct_counts_mt', 'n_counts', 'n_genes', 'size_factors', 'phase', 'leiden_final', 'atac_ann', 'cell_type', 'pseudotime_order_GEX'\n",
       "     var: 'gene_ids', 'feature_types', 'genome', 'n_cells', 'highly_variable'\n",
       "     uns: 'hvg', 'neighbors', 'pca', 'umap'\n",
       "     obsm: 'X_pca', 'X_umap'\n",
       "     varm: 'PCs'\n",
       "     layers: 'counts'\n",
       "     obsp: 'connectivities', 'distances',\n",
       " 's2d4': AnnData object with n_obs × n_vars = 6111 × 18507\n",
       "     obs: 'n_genes_by_counts', 'pct_counts_mt', 'n_counts', 'n_genes', 'size_factors', 'phase', 'leiden_final', 'atac_ann', 'cell_type', 'pseudotime_order_GEX'\n",
       "     var: 'gene_ids', 'feature_types', 'genome', 'n_cells', 'highly_variable'\n",
       "     uns: 'hvg', 'neighbors', 'pca', 'rg_res0.5_prog_2', 'rg_res0.5_prog_3', 'umap'\n",
       "     obsm: 'X_pca', 'X_umap'\n",
       "     varm: 'PCs'\n",
       "     layers: 'counts'\n",
       "     obsp: 'connectivities', 'distances',\n",
       " 's2d5': AnnData object with n_obs × n_vars = 4895 × 18456\n",
       "     obs: 'n_genes_by_counts', 'pct_counts_mt', 'n_counts', 'n_genes', 'size_factors', 'phase', 'leiden_final', 'atac_ann', 'cell_type', 'pseudotime_order_GEX'\n",
       "     var: 'gene_ids', 'feature_types', 'genome', 'mt', 'n_cells_by_counts', 'mean_counts', 'log1p_mean_counts', 'pct_dropout_by_counts', 'total_counts', 'log1p_total_counts', 'n_cells', 'highly_variable', 'means', 'dispersions', 'dispersions_norm'\n",
       "     uns: 'hvg', 'leiden', 'neighbors', 'pca', 'rank_genes_res0.3', 'rg_res0.3_1sub', 'rg_res0.3_2sub', 'rg_res0.3_3sub', 'rg_res0.3_5sub', 'rg_res0.3_6sub', 'umap'\n",
       "     obsm: 'X_pca', 'X_umap'\n",
       "     varm: 'PCs'\n",
       "     layers: 'counts'\n",
       "     obsp: 'connectivities', 'distances'}"
      ]
     },
     "execution_count": 16,
     "metadata": {},
     "output_type": "execute_result"
    }
   ],
   "source": [
    "rna_dict"
   ]
  },
  {
   "cell_type": "markdown",
   "id": "855d46c3-6315-4654-a25a-b3378a85e227",
   "metadata": {},
   "source": [
    "### uns"
   ]
  },
  {
   "cell_type": "code",
   "execution_count": 17,
   "id": "988c3161-a331-411d-b47e-380e38216a8c",
   "metadata": {
    "execution": {
     "iopub.execute_input": "2021-08-26T19:09:10.527888Z",
     "iopub.status.busy": "2021-08-26T19:09:10.527703Z",
     "iopub.status.idle": "2021-08-26T19:09:10.533083Z",
     "shell.execute_reply": "2021-08-26T19:09:10.532400Z",
     "shell.execute_reply.started": "2021-08-26T19:09:10.527869Z"
    },
    "tags": []
   },
   "outputs": [
    {
     "name": "stdout",
     "output_type": "stream",
     "text": [
      "To keep: {'pca', 'umap', 'hvg', 'neighbors'}\n",
      "To delete: {'leiden', 'rg_res0.3_1sub', 'rg_res0.3_2sub', 'rg_res0.5_prog_3', 'rg_res0.3_5sub', 'rg_res0.5_prog_2', 'rg_res0.3_6sub', 'rg_res0.3_3sub', 'rg_res0.5_4sub', 'rank_genes_res0.3', 'rg_res0.5_msub3'}\n"
     ]
    }
   ],
   "source": [
    "#Check in uns\n",
    "common_keys = set(rna_dict[samples[0]].uns.keys())\n",
    "all_keys = set(common_keys)\n",
    "\n",
    "for k in samples[1:]:\n",
    "    common_keys = common_keys.intersection(set(rna_dict[k].uns.keys()))\n",
    "    all_keys.update(set(rna_dict[k].uns.keys()))\n",
    "    \n",
    "diff_keys = all_keys.difference(common_keys)\n",
    "print(f'To keep: {common_keys}')\n",
    "print(f'To delete: {diff_keys}')"
   ]
  },
  {
   "cell_type": "code",
   "execution_count": 18,
   "id": "c81076b7-57a5-4b01-96ac-adc430ff15bc",
   "metadata": {
    "execution": {
     "iopub.execute_input": "2021-08-26T19:09:10.534121Z",
     "iopub.status.busy": "2021-08-26T19:09:10.533954Z",
     "iopub.status.idle": "2021-08-26T19:09:10.584356Z",
     "shell.execute_reply": "2021-08-26T19:09:10.583737Z",
     "shell.execute_reply.started": "2021-08-26T19:09:10.534103Z"
    },
    "tags": []
   },
   "outputs": [
    {
     "name": "stdout",
     "output_type": "stream",
     "text": [
      "Deleted all non-shared keys!\n"
     ]
    }
   ],
   "source": [
    "# WATCH OUT... only if you really want to delete all keys mentioned above!\n",
    "\n",
    "for k1 in samples:\n",
    "    for k2 in list(diff_keys):\n",
    "        if k2 in rna_dict[k1].uns:\n",
    "            del rna_dict[k1].uns[k2]\n",
    "        \n",
    "common_keys = set(rna_dict[samples[0]].uns.keys())\n",
    "all_keys = set(common_keys)\n",
    "\n",
    "for k in samples[1:]:\n",
    "    common_keys = common_keys.intersection(set(rna_dict[k].uns.keys()))\n",
    "    all_keys.update(set(rna_dict[k].uns.keys()))\n",
    "    \n",
    "diff_keys = all_keys.difference(common_keys)\n",
    "if len(diff_keys) == 0:\n",
    "    print('Deleted all non-shared keys!')\n",
    "else:\n",
    "    print(f'Still have the following keys left over: {diff_keys}')"
   ]
  },
  {
   "cell_type": "markdown",
   "id": "e8ed3500-e2e3-4a72-a164-d6789e90e650",
   "metadata": {},
   "source": [
    "### var"
   ]
  },
  {
   "cell_type": "code",
   "execution_count": 19,
   "id": "d2bb0922-58fe-4357-b7b0-e7c32520283f",
   "metadata": {
    "execution": {
     "iopub.execute_input": "2021-08-26T19:09:10.585541Z",
     "iopub.status.busy": "2021-08-26T19:09:10.585355Z",
     "iopub.status.idle": "2021-08-26T19:09:10.590223Z",
     "shell.execute_reply": "2021-08-26T19:09:10.589696Z",
     "shell.execute_reply.started": "2021-08-26T19:09:10.585521Z"
    },
    "tags": []
   },
   "outputs": [
    {
     "name": "stdout",
     "output_type": "stream",
     "text": [
      "To keep: {'gene_ids', 'feature_types', 'n_cells', 'genome', 'highly_variable'}\n",
      "To delete: {'log1p_mean_counts', 'total_counts', 'dispersions_norm', 'mean_counts', 'pct_dropout_by_counts', 'log1p_total_counts', 'n_cells_by_counts', 'means', 'mt', 'dispersions'}\n"
     ]
    }
   ],
   "source": [
    "#Check in var\n",
    "common_keys = set(rna_dict[samples[0]].var.keys())\n",
    "all_keys = set(common_keys)\n",
    "\n",
    "for k in samples[1:]:\n",
    "    common_keys = common_keys.intersection(set(rna_dict[k].var.keys()))\n",
    "    all_keys.update(set(rna_dict[k].var.keys()))\n",
    "    \n",
    "diff_keys = all_keys.difference(common_keys)\n",
    "print(f'To keep: {common_keys}')\n",
    "print(f'To delete: {diff_keys}')"
   ]
  },
  {
   "cell_type": "code",
   "execution_count": 20,
   "id": "82687d38-96de-40ef-bc36-2c95d531201f",
   "metadata": {
    "execution": {
     "iopub.execute_input": "2021-08-26T19:09:10.591487Z",
     "iopub.status.busy": "2021-08-26T19:09:10.591320Z",
     "iopub.status.idle": "2021-08-26T19:09:10.601103Z",
     "shell.execute_reply": "2021-08-26T19:09:10.600584Z",
     "shell.execute_reply.started": "2021-08-26T19:09:10.591467Z"
    },
    "tags": []
   },
   "outputs": [
    {
     "name": "stdout",
     "output_type": "stream",
     "text": [
      "Deleted all non-shared keys!\n"
     ]
    }
   ],
   "source": [
    "# WATCH OUT... only if you really want to delete all keys mentioned above!\n",
    "\n",
    "for k1 in samples:\n",
    "    for k2 in list(diff_keys):\n",
    "        if k2 in rna_dict[k1].var:\n",
    "            del rna_dict[k1].var[k2]\n",
    "        \n",
    "common_keys = set(rna_dict[samples[0]].var.keys())\n",
    "all_keys = set(common_keys)\n",
    "\n",
    "for k in samples[1:]:\n",
    "    common_keys = common_keys.intersection(set(rna_dict[k].var.keys()))\n",
    "    all_keys.update(set(rna_dict[k].var.keys()))\n",
    "    \n",
    "diff_keys = all_keys.difference(common_keys)\n",
    "if len(diff_keys) == 0:\n",
    "    print('Deleted all non-shared keys!')\n",
    "else:\n",
    "    print(f'Still have the following keys left over: {diff_keys}')"
   ]
  },
  {
   "cell_type": "markdown",
   "id": "ef67e0de-6e3a-414a-bdec-174a96948ec5",
   "metadata": {},
   "source": [
    "### obs"
   ]
  },
  {
   "cell_type": "code",
   "execution_count": 21,
   "id": "794296b7-a866-4aab-a819-a2e03e6b9357",
   "metadata": {
    "execution": {
     "iopub.execute_input": "2021-08-26T19:09:10.870088Z",
     "iopub.status.busy": "2021-08-26T19:09:10.869854Z",
     "iopub.status.idle": "2021-08-26T19:09:10.874801Z",
     "shell.execute_reply": "2021-08-26T19:09:10.874198Z",
     "shell.execute_reply.started": "2021-08-26T19:09:10.870065Z"
    },
    "tags": []
   },
   "outputs": [
    {
     "name": "stdout",
     "output_type": "stream",
     "text": [
      "To keep: {'phase', 'atac_ann', 'pseudotime_order_GEX', 'cell_type', 'leiden_final', 'n_genes', 'n_counts', 'pct_counts_mt', 'size_factors', 'n_genes_by_counts'}\n",
      "To delete: set()\n"
     ]
    }
   ],
   "source": [
    "#Check in obs\n",
    "common_keys = set(rna_dict[samples[0]].obs.keys())\n",
    "all_keys = set(common_keys)\n",
    "\n",
    "for k in samples[1:]:\n",
    "    common_keys = common_keys.intersection(set(rna_dict[k].obs.keys()))\n",
    "    all_keys.update(set(rna_dict[k].obs.keys()))\n",
    "    \n",
    "diff_keys = all_keys.difference(common_keys)\n",
    "print(f'To keep: {common_keys}')\n",
    "print(f'To delete: {diff_keys}')"
   ]
  },
  {
   "cell_type": "code",
   "execution_count": 22,
   "id": "c2098256-6d2d-4926-a78a-d1c8bf89d561",
   "metadata": {
    "execution": {
     "iopub.execute_input": "2021-08-26T19:09:11.042623Z",
     "iopub.status.busy": "2021-08-26T19:09:11.042359Z",
     "iopub.status.idle": "2021-08-26T19:09:11.048126Z",
     "shell.execute_reply": "2021-08-26T19:09:11.047429Z",
     "shell.execute_reply.started": "2021-08-26T19:09:11.042599Z"
    },
    "tags": []
   },
   "outputs": [
    {
     "name": "stdout",
     "output_type": "stream",
     "text": [
      "Deleted all non-shared keys!\n"
     ]
    }
   ],
   "source": [
    "# WATCH OUT... only if you really want to delete all keys mentioned above!\n",
    "\n",
    "for k1 in samples:\n",
    "    for k2 in list(diff_keys):\n",
    "        if k2 in rna_dict[k1].obs:\n",
    "            del rna_dict[k1].obs[k2]\n",
    "        \n",
    "common_keys = set(rna_dict[samples[0]].obs.keys())\n",
    "all_keys = set(common_keys)\n",
    "\n",
    "for k in samples[1:]:\n",
    "    common_keys = common_keys.intersection(set(rna_dict[k].obs.keys()))\n",
    "    all_keys.update(set(rna_dict[k].obs.keys()))\n",
    "    \n",
    "diff_keys = all_keys.difference(common_keys)\n",
    "if len(diff_keys) == 0:\n",
    "    print('Deleted all non-shared keys!')\n",
    "else:\n",
    "    print(f'Still have the following keys left over: {diff_keys}')"
   ]
  },
  {
   "cell_type": "markdown",
   "id": "65b67eb1-e894-4fb3-8c4b-fd678b23c844",
   "metadata": {},
   "source": [
    "## ATAC"
   ]
  },
  {
   "cell_type": "code",
   "execution_count": 23,
   "id": "7016d88c-bae1-4f20-a297-d94f73ef5b38",
   "metadata": {
    "execution": {
     "iopub.execute_input": "2021-08-26T19:09:11.373436Z",
     "iopub.status.busy": "2021-08-26T19:09:11.373202Z",
     "iopub.status.idle": "2021-08-26T19:09:11.378005Z",
     "shell.execute_reply": "2021-08-26T19:09:11.377459Z",
     "shell.execute_reply.started": "2021-08-26T19:09:11.373414Z"
    },
    "tags": []
   },
   "outputs": [
    {
     "data": {
      "text/plain": [
       "{'s1d1': AnnData object with n_obs × n_vars = 6224 × 153625\n",
       "     obs: 'nCount_peaks', 'atac_fragments', 'reads_in_peaks_frac', 'blacklist_fraction', 'nucleosome_signal', 'leiden_final', 'rna_ann', 'cell_type', 'pseudotime_order_ATAC'\n",
       "     var: 'feature_types'\n",
       "     uns: 'gene_activity_var_names', 'neighbors'\n",
       "     obsm: 'gene_activity', 'lsi_full', 'lsi_red', 'umap'\n",
       "     obsp: 'connectivities', 'distances',\n",
       " 's1d2': AnnData object with n_obs × n_vars = 6740 × 138781\n",
       "     obs: 'nCount_peaks', 'atac_fragments', 'reads_in_peaks_frac', 'blacklist_fraction', 'nucleosome_signal', 'leiden_final', 'rna_ann', 'cell_type', 'pseudotime_order_ATAC'\n",
       "     var: 'feature_types'\n",
       "     uns: 'gene_activity_var_names', 'neighbors'\n",
       "     obsm: 'gene_activity', 'lsi_full', 'lsi_red', 'umap'\n",
       "     obsp: 'connectivities', 'distances',\n",
       " 's1d3': AnnData object with n_obs × n_vars = 4279 × 123335\n",
       "     obs: 'nCount_peaks', 'atac_fragments', 'reads_in_peaks_frac', 'blacklist_fraction', 'nucleosome_signal', 'leiden_final', 'rna_ann', 'cell_type', 'pseudotime_order_ATAC'\n",
       "     var: 'feature_types'\n",
       "     uns: 'gene_activity_var_names', 'neighbors', 'peak_names'\n",
       "     obsm: 'gene_activity', 'lsi_full', 'lsi_red', 'umap'\n",
       "     obsp: 'connectivities', 'distances',\n",
       " 's2d4': AnnData object with n_obs × n_vars = 6111 × 158058\n",
       "     obs: 'nCount_peaks', 'atac_fragments', 'reads_in_peaks_frac', 'blacklist_fraction', 'nucleosome_signal', 'leiden_final', 'rna_ann', 'cell_type', 'pseudotime_order_ATAC'\n",
       "     var: 'feature_types'\n",
       "     uns: 'gene_activity_var_names', 'neighbors'\n",
       "     obsm: 'gene_activity', 'lsi_full', 'lsi_red', 'umap'\n",
       "     obsp: 'connectivities', 'distances',\n",
       " 's2d5': AnnData object with n_obs × n_vars = 4895 × 156666\n",
       "     obs: 'nCount_peaks', 'atac_fragments', 'reads_in_peaks_frac', 'blacklist_fraction', 'nucleosome_signal', 'leiden_final', 'rna_ann', 'cell_type', 'pseudotime_order_ATAC'\n",
       "     var: 'feature_types'\n",
       "     uns: 'gene_activity_var_names', 'neighbors'\n",
       "     obsm: 'gene_activity', 'lsi_full', 'lsi_red', 'umap'\n",
       "     obsp: 'connectivities', 'distances'}"
      ]
     },
     "execution_count": 23,
     "metadata": {},
     "output_type": "execute_result"
    }
   ],
   "source": [
    "atac_dict"
   ]
  },
  {
   "cell_type": "code",
   "execution_count": 25,
   "id": "87db261a-6ef1-4bd3-a97b-880e51dd2eb8",
   "metadata": {
    "execution": {
     "iopub.execute_input": "2021-08-26T19:09:20.857405Z",
     "iopub.status.busy": "2021-08-26T19:09:20.857177Z",
     "iopub.status.idle": "2021-08-26T19:09:20.862470Z",
     "shell.execute_reply": "2021-08-26T19:09:20.861754Z",
     "shell.execute_reply.started": "2021-08-26T19:09:20.857383Z"
    },
    "tags": []
   },
   "outputs": [
    {
     "name": "stdout",
     "output_type": "stream",
     "text": [
      "To keep: {'neighbors', 'gene_activity_var_names'}\n",
      "To delete: {'peak_names'}\n"
     ]
    }
   ],
   "source": [
    "#Check in uns\n",
    "common_keys = set(atac_dict[samples[0]].uns.keys())\n",
    "all_keys = set(common_keys)\n",
    "\n",
    "for k in samples[1:]:\n",
    "    common_keys = common_keys.intersection(set(atac_dict[k].uns.keys()))\n",
    "    all_keys.update(set(atac_dict[k].uns.keys()))\n",
    "    \n",
    "diff_keys = all_keys.difference(common_keys)\n",
    "print(f'To keep: {common_keys}')\n",
    "print(f'To delete: {diff_keys}')"
   ]
  },
  {
   "cell_type": "code",
   "execution_count": 26,
   "id": "321703b1-7a5b-4ca7-84b4-c280b2797bd8",
   "metadata": {
    "execution": {
     "iopub.execute_input": "2021-08-26T19:09:22.212849Z",
     "iopub.status.busy": "2021-08-26T19:09:22.212617Z",
     "iopub.status.idle": "2021-08-26T19:09:22.220638Z",
     "shell.execute_reply": "2021-08-26T19:09:22.219958Z",
     "shell.execute_reply.started": "2021-08-26T19:09:22.212826Z"
    },
    "tags": []
   },
   "outputs": [
    {
     "name": "stdout",
     "output_type": "stream",
     "text": [
      "Deleted all non-shared keys!\n"
     ]
    }
   ],
   "source": [
    "# WATCH OUT... only if you really want to delete all keys mentioned above!\n",
    "\n",
    "for k1 in samples:\n",
    "    for k2 in list(diff_keys):\n",
    "        if k2 in atac_dict[k1].uns:\n",
    "            del atac_dict[k1].uns[k2]\n",
    "        \n",
    "common_keys = set(atac_dict[samples[0]].uns.keys())\n",
    "all_keys = set(common_keys)\n",
    "\n",
    "for k in samples[1:]:\n",
    "    common_keys = common_keys.intersection(set(atac_dict[k].uns.keys()))\n",
    "    all_keys.update(set(atac_dict[k].uns.keys()))\n",
    "    \n",
    "diff_keys = all_keys.difference(common_keys)\n",
    "if len(diff_keys) == 0:\n",
    "    print('Deleted all non-shared keys!')\n",
    "else:\n",
    "    print(f'Still have the following keys left over: {diff_keys}')"
   ]
  },
  {
   "cell_type": "markdown",
   "id": "255b5289-759a-4e09-b88b-687b5255aa15",
   "metadata": {},
   "source": [
    "### var"
   ]
  },
  {
   "cell_type": "code",
   "execution_count": 27,
   "id": "a62a8e73-2d4d-4606-97c8-ebafaa0cc2fb",
   "metadata": {
    "execution": {
     "iopub.execute_input": "2021-08-26T19:10:22.766416Z",
     "iopub.status.busy": "2021-08-26T19:10:22.766171Z",
     "iopub.status.idle": "2021-08-26T19:10:22.771319Z",
     "shell.execute_reply": "2021-08-26T19:10:22.770554Z",
     "shell.execute_reply.started": "2021-08-26T19:10:22.766393Z"
    },
    "tags": []
   },
   "outputs": [
    {
     "name": "stdout",
     "output_type": "stream",
     "text": [
      "To keep: {'feature_types'}\n",
      "To delete: set()\n"
     ]
    }
   ],
   "source": [
    "#Check in var\n",
    "common_keys = set(atac_dict[samples[0]].var.keys())\n",
    "all_keys = set(common_keys)\n",
    "\n",
    "for k in samples[1:]:\n",
    "    common_keys = common_keys.intersection(set(atac_dict[k].var.keys()))\n",
    "    all_keys.update(set(atac_dict[k].var.keys()))\n",
    "    \n",
    "diff_keys = all_keys.difference(common_keys)\n",
    "print(f'To keep: {common_keys}')\n",
    "print(f'To delete: {diff_keys}')"
   ]
  },
  {
   "cell_type": "code",
   "execution_count": 28,
   "id": "8c399b07-1f66-4785-8625-fb3962fa128f",
   "metadata": {
    "execution": {
     "iopub.execute_input": "2021-08-26T19:10:23.766366Z",
     "iopub.status.busy": "2021-08-26T19:10:23.766113Z",
     "iopub.status.idle": "2021-08-26T19:10:23.771579Z",
     "shell.execute_reply": "2021-08-26T19:10:23.770892Z",
     "shell.execute_reply.started": "2021-08-26T19:10:23.766343Z"
    },
    "tags": []
   },
   "outputs": [
    {
     "name": "stdout",
     "output_type": "stream",
     "text": [
      "Deleted all non-shared keys!\n"
     ]
    }
   ],
   "source": [
    "# WATCH OUT... only if you really want to delete all keys mentioned above!\n",
    "\n",
    "for k1 in samples:\n",
    "    for k2 in list(diff_keys):\n",
    "        if k2 in atac_dict[k1].var:\n",
    "            del atac_dict[k1].var[k2]\n",
    "        \n",
    "common_keys = set(atac_dict[samples[0]].var.keys())\n",
    "all_keys = set(common_keys)\n",
    "\n",
    "for k in samples[1:]:\n",
    "    common_keys = common_keys.intersection(set(atac_dict[k].var.keys()))\n",
    "    all_keys.update(set(atac_dict[k].var.keys()))\n",
    "    \n",
    "diff_keys = all_keys.difference(common_keys)\n",
    "if len(diff_keys) == 0:\n",
    "    print('Deleted all non-shared keys!')\n",
    "else:\n",
    "    print(f'Still have the following keys left over: {diff_keys}')"
   ]
  },
  {
   "cell_type": "markdown",
   "id": "0eec85c5-84b7-40d4-912d-ebed5d62e77d",
   "metadata": {},
   "source": [
    "### obs"
   ]
  },
  {
   "cell_type": "code",
   "execution_count": 29,
   "id": "47862c88-0e84-484b-98ac-87421ee395c5",
   "metadata": {
    "execution": {
     "iopub.execute_input": "2021-08-26T19:10:24.864364Z",
     "iopub.status.busy": "2021-08-26T19:10:24.864136Z",
     "iopub.status.idle": "2021-08-26T19:10:24.869249Z",
     "shell.execute_reply": "2021-08-26T19:10:24.868548Z",
     "shell.execute_reply.started": "2021-08-26T19:10:24.864343Z"
    },
    "tags": []
   },
   "outputs": [
    {
     "name": "stdout",
     "output_type": "stream",
     "text": [
      "To keep: {'rna_ann', 'atac_fragments', 'nucleosome_signal', 'reads_in_peaks_frac', 'pseudotime_order_ATAC', 'nCount_peaks', 'cell_type', 'leiden_final', 'blacklist_fraction'}\n",
      "To delete: set()\n"
     ]
    }
   ],
   "source": [
    "#Check in obs\n",
    "common_keys = set(atac_dict[samples[0]].obs.keys())\n",
    "all_keys = set(common_keys)\n",
    "\n",
    "for k in samples[1:]:\n",
    "    common_keys = common_keys.intersection(set(atac_dict[k].obs.keys()))\n",
    "    all_keys.update(set(atac_dict[k].obs.keys()))\n",
    "    \n",
    "diff_keys = all_keys.difference(common_keys)\n",
    "print(f'To keep: {common_keys}')\n",
    "print(f'To delete: {diff_keys}')"
   ]
  },
  {
   "cell_type": "code",
   "execution_count": 30,
   "id": "45bc5748-a1b1-494d-916b-e780e0db57ad",
   "metadata": {
    "execution": {
     "iopub.execute_input": "2021-08-26T19:10:25.880979Z",
     "iopub.status.busy": "2021-08-26T19:10:25.880746Z",
     "iopub.status.idle": "2021-08-26T19:10:25.886453Z",
     "shell.execute_reply": "2021-08-26T19:10:25.885707Z",
     "shell.execute_reply.started": "2021-08-26T19:10:25.880957Z"
    },
    "tags": []
   },
   "outputs": [
    {
     "name": "stdout",
     "output_type": "stream",
     "text": [
      "Deleted all non-shared keys!\n"
     ]
    }
   ],
   "source": [
    "# WATCH OUT... only if you really want to delete all keys mentioned above!\n",
    "\n",
    "for k1 in samples:\n",
    "    for k2 in list(diff_keys):\n",
    "        if k2 in atac_dict[k1].obs:\n",
    "            del atac_dict[k1].obs[k2]\n",
    "        \n",
    "common_keys = set(atac_dict[samples[0]].obs.keys())\n",
    "all_keys = set(common_keys)\n",
    "\n",
    "for k in samples[1:]:\n",
    "    common_keys = common_keys.intersection(set(atac_dict[k].obs.keys()))\n",
    "    all_keys.update(set(atac_dict[k].obs.keys()))\n",
    "    \n",
    "diff_keys = all_keys.difference(common_keys)\n",
    "if len(diff_keys) == 0:\n",
    "    print('Deleted all non-shared keys!')\n",
    "else:\n",
    "    print(f'Still have the following keys left over: {diff_keys}')"
   ]
  },
  {
   "cell_type": "code",
   "execution_count": null,
   "id": "69b174ea-f9e4-4bd9-8128-6b02108afce6",
   "metadata": {},
   "outputs": [],
   "source": []
  },
  {
   "cell_type": "markdown",
   "id": "874b1f35-ae5e-4b5f-ab03-0062df50348c",
   "metadata": {
    "tags": []
   },
   "source": [
    "# Merge files"
   ]
  },
  {
   "cell_type": "markdown",
   "id": "e5938090-5322-43b2-9125-2e56b6ec9b26",
   "metadata": {
    "tags": []
   },
   "source": [
    "### RNA"
   ]
  },
  {
   "cell_type": "code",
   "execution_count": 31,
   "id": "224439f3-3a2c-440c-82ff-cdc25fdb70e2",
   "metadata": {
    "execution": {
     "iopub.execute_input": "2021-08-26T19:10:28.506588Z",
     "iopub.status.busy": "2021-08-26T19:10:28.506330Z",
     "iopub.status.idle": "2021-08-26T19:10:30.250737Z",
     "shell.execute_reply": "2021-08-26T19:10:30.250113Z",
     "shell.execute_reply.started": "2021-08-26T19:10:28.506564Z"
    },
    "tags": []
   },
   "outputs": [],
   "source": [
    "rna_dat = rna_dict[samples[0]]\n",
    "rna_dat = rna_dat.concatenate(*list(rna_dict.values())[1:], batch_categories = np.unique(samples))"
   ]
  },
  {
   "cell_type": "code",
   "execution_count": 32,
   "id": "cce28292-9320-447c-bcfc-f15f8dac7339",
   "metadata": {
    "execution": {
     "iopub.execute_input": "2021-08-26T19:10:30.251910Z",
     "iopub.status.busy": "2021-08-26T19:10:30.251719Z",
     "iopub.status.idle": "2021-08-26T19:10:30.255905Z",
     "shell.execute_reply": "2021-08-26T19:10:30.255316Z",
     "shell.execute_reply.started": "2021-08-26T19:10:30.251888Z"
    },
    "tags": []
   },
   "outputs": [
    {
     "data": {
      "text/plain": [
       "AnnData object with n_obs × n_vars = 28249 × 15189\n",
       "    obs: 'n_genes_by_counts', 'pct_counts_mt', 'n_counts', 'n_genes', 'size_factors', 'phase', 'leiden_final', 'atac_ann', 'cell_type', 'pseudotime_order_GEX', 'batch'\n",
       "    var: 'gene_ids', 'feature_types', 'genome', 'n_cells-s1d1', 'highly_variable-s1d1', 'n_cells-s1d2', 'highly_variable-s1d2', 'n_cells-s1d3', 'highly_variable-s1d3', 'n_cells-s2d4', 'highly_variable-s2d4', 'n_cells-s2d5', 'highly_variable-s2d5'\n",
       "    obsm: 'X_pca', 'X_umap'\n",
       "    layers: 'counts'"
      ]
     },
     "execution_count": 32,
     "metadata": {},
     "output_type": "execute_result"
    }
   ],
   "source": [
    "rna_dat"
   ]
  },
  {
   "cell_type": "code",
   "execution_count": 33,
   "id": "0aa1c549-260f-4495-8099-2e0488c599c1",
   "metadata": {
    "execution": {
     "iopub.execute_input": "2021-08-26T19:10:36.724251Z",
     "iopub.status.busy": "2021-08-26T19:10:36.724012Z",
     "iopub.status.idle": "2021-08-26T19:10:36.732010Z",
     "shell.execute_reply": "2021-08-26T19:10:36.731342Z",
     "shell.execute_reply.started": "2021-08-26T19:10:36.724229Z"
    },
    "tags": []
   },
   "outputs": [
    {
     "data": {
      "text/plain": [
       "s1d2    6740\n",
       "s1d1    6224\n",
       "s2d4    6111\n",
       "s2d5    4895\n",
       "s1d3    4279\n",
       "Name: batch, dtype: int64"
      ]
     },
     "execution_count": 33,
     "metadata": {},
     "output_type": "execute_result"
    }
   ],
   "source": [
    "rna_dat.obs['batch'].value_counts()"
   ]
  },
  {
   "cell_type": "markdown",
   "id": "b4965873-26a7-44c5-8500-79b6bb1f6734",
   "metadata": {},
   "source": [
    "### ATAC"
   ]
  },
  {
   "cell_type": "code",
   "execution_count": 34,
   "id": "2ab544b6-2f34-4868-9fa9-68c1ddff13f4",
   "metadata": {
    "execution": {
     "iopub.execute_input": "2021-08-26T19:10:46.557447Z",
     "iopub.status.busy": "2021-08-26T19:10:46.557210Z",
     "iopub.status.idle": "2021-08-26T19:11:01.239016Z",
     "shell.execute_reply": "2021-08-26T19:11:01.238445Z",
     "shell.execute_reply.started": "2021-08-26T19:10:46.557424Z"
    },
    "tags": []
   },
   "outputs": [],
   "source": [
    "atac_dat = atac_dict[samples[0]]\n",
    "atac_dat = atac_dat.concatenate(*list(atac_dict.values())[1:], batch_categories = np.unique(samples))"
   ]
  },
  {
   "cell_type": "code",
   "execution_count": 35,
   "id": "9fd6328c-0df3-4ca0-946b-f737b0d1e96a",
   "metadata": {
    "execution": {
     "iopub.execute_input": "2021-08-26T19:11:02.767946Z",
     "iopub.status.busy": "2021-08-26T19:11:02.767714Z",
     "iopub.status.idle": "2021-08-26T19:11:02.772339Z",
     "shell.execute_reply": "2021-08-26T19:11:02.771615Z",
     "shell.execute_reply.started": "2021-08-26T19:11:02.767924Z"
    },
    "tags": []
   },
   "outputs": [
    {
     "data": {
      "text/plain": [
       "AnnData object with n_obs × n_vars = 28249 × 119254\n",
       "    obs: 'nCount_peaks', 'atac_fragments', 'reads_in_peaks_frac', 'blacklist_fraction', 'nucleosome_signal', 'leiden_final', 'rna_ann', 'cell_type', 'pseudotime_order_ATAC', 'batch'\n",
       "    var: 'feature_types'\n",
       "    obsm: 'gene_activity', 'lsi_full', 'lsi_red', 'umap'"
      ]
     },
     "execution_count": 35,
     "metadata": {},
     "output_type": "execute_result"
    }
   ],
   "source": [
    "atac_dat"
   ]
  },
  {
   "cell_type": "code",
   "execution_count": 36,
   "id": "28d29ea0-0df5-44f9-9de4-806f74e7c2b8",
   "metadata": {
    "execution": {
     "iopub.execute_input": "2021-08-26T19:11:03.980023Z",
     "iopub.status.busy": "2021-08-26T19:11:03.979793Z",
     "iopub.status.idle": "2021-08-26T19:11:03.987961Z",
     "shell.execute_reply": "2021-08-26T19:11:03.987295Z",
     "shell.execute_reply.started": "2021-08-26T19:11:03.980001Z"
    },
    "tags": []
   },
   "outputs": [
    {
     "data": {
      "text/plain": [
       "s1d2    6740\n",
       "s1d1    6224\n",
       "s2d4    6111\n",
       "s2d5    4895\n",
       "s1d3    4279\n",
       "Name: batch, dtype: int64"
      ]
     },
     "execution_count": 36,
     "metadata": {},
     "output_type": "execute_result"
    }
   ],
   "source": [
    "atac_dat.obs['batch'].value_counts()"
   ]
  },
  {
   "cell_type": "markdown",
   "id": "c5029638-a2e9-4f7a-adcc-665c8d4a31c3",
   "metadata": {},
   "source": [
    "#### Add gene_activity var names"
   ]
  },
  {
   "cell_type": "code",
   "execution_count": 37,
   "id": "c8a728e2-6dae-4973-81ff-66b7ae5ba922",
   "metadata": {
    "execution": {
     "iopub.execute_input": "2021-08-26T19:11:05.395765Z",
     "iopub.status.busy": "2021-08-26T19:11:05.395533Z",
     "iopub.status.idle": "2021-08-26T19:11:05.416177Z",
     "shell.execute_reply": "2021-08-26T19:11:05.415424Z",
     "shell.execute_reply.started": "2021-08-26T19:11:05.395742Z"
    },
    "tags": []
   },
   "outputs": [
    {
     "name": "stdout",
     "output_type": "stream",
     "text": [
      "Gene activity var names easily added!\n"
     ]
    }
   ],
   "source": [
    "genes_intersect = set(atac_dict[samples[0]].uns['gene_activity_var_names']).intersection(*[atac_dict[s].uns['gene_activity_var_names'] for s in samples[1:]])\n",
    "genes_union = set(atac_dict[samples[0]].uns['gene_activity_var_names']).union(*[atac_dict[s].uns['gene_activity_var_names'] for s in samples[1:]])\n",
    "\n",
    "if len(genes_intersect) == len(genes_union):\n",
    "    print(\"Gene activity var names easily added!\")\n",
    "    atac_dat.uns['gene_activity_var_names'] = atac_dict[samples[0]].uns['gene_activity_var_names']\n",
    "    \n",
    "else:\n",
    "    print(\"Merge issue! Need to manually check how to add gene activity var names!\")"
   ]
  },
  {
   "cell_type": "markdown",
   "id": "bd989d9b-0e31-48b7-8ed9-5d3f935ad5b0",
   "metadata": {},
   "source": [
    "# Check cell type harmonization"
   ]
  },
  {
   "cell_type": "code",
   "execution_count": 38,
   "id": "e1ddc36c-60a8-4b4a-bc51-011891f29b13",
   "metadata": {
    "execution": {
     "iopub.execute_input": "2021-08-26T19:11:10.579134Z",
     "iopub.status.busy": "2021-08-26T19:11:10.578900Z",
     "iopub.status.idle": "2021-08-26T19:11:10.616723Z",
     "shell.execute_reply": "2021-08-26T19:11:10.616169Z",
     "shell.execute_reply.started": "2021-08-26T19:11:10.579110Z"
    },
    "tags": []
   },
   "outputs": [
    {
     "data": {
      "text/html": [
       "<div>\n",
       "<style scoped>\n",
       "    .dataframe tbody tr th:only-of-type {\n",
       "        vertical-align: middle;\n",
       "    }\n",
       "\n",
       "    .dataframe tbody tr th {\n",
       "        vertical-align: top;\n",
       "    }\n",
       "\n",
       "    .dataframe thead th {\n",
       "        text-align: right;\n",
       "    }\n",
       "</style>\n",
       "<table border=\"1\" class=\"dataframe\">\n",
       "  <thead>\n",
       "    <tr style=\"text-align: right;\">\n",
       "      <th>batch</th>\n",
       "      <th>s1d1</th>\n",
       "      <th>s1d2</th>\n",
       "      <th>s1d3</th>\n",
       "      <th>s2d4</th>\n",
       "      <th>s2d5</th>\n",
       "    </tr>\n",
       "    <tr>\n",
       "      <th>cell_type</th>\n",
       "      <th></th>\n",
       "      <th></th>\n",
       "      <th></th>\n",
       "      <th></th>\n",
       "      <th></th>\n",
       "    </tr>\n",
       "  </thead>\n",
       "  <tbody>\n",
       "    <tr>\n",
       "      <th>B1 B</th>\n",
       "      <td>201</td>\n",
       "      <td>127</td>\n",
       "      <td>73</td>\n",
       "      <td>0</td>\n",
       "      <td>123</td>\n",
       "    </tr>\n",
       "    <tr>\n",
       "      <th>CD14+ Mono</th>\n",
       "      <td>921</td>\n",
       "      <td>704</td>\n",
       "      <td>242</td>\n",
       "      <td>1140</td>\n",
       "      <td>1716</td>\n",
       "    </tr>\n",
       "    <tr>\n",
       "      <th>CD16+ Mono</th>\n",
       "      <td>66</td>\n",
       "      <td>179</td>\n",
       "      <td>26</td>\n",
       "      <td>177</td>\n",
       "      <td>380</td>\n",
       "    </tr>\n",
       "    <tr>\n",
       "      <th>CD4+ T activated</th>\n",
       "      <td>836</td>\n",
       "      <td>709</td>\n",
       "      <td>392</td>\n",
       "      <td>385</td>\n",
       "      <td>493</td>\n",
       "    </tr>\n",
       "    <tr>\n",
       "      <th>CD4+ T naive</th>\n",
       "      <td>543</td>\n",
       "      <td>1289</td>\n",
       "      <td>533</td>\n",
       "      <td>214</td>\n",
       "      <td>163</td>\n",
       "    </tr>\n",
       "    <tr>\n",
       "      <th>CD8+ T</th>\n",
       "      <td>725</td>\n",
       "      <td>1632</td>\n",
       "      <td>1020</td>\n",
       "      <td>230</td>\n",
       "      <td>752</td>\n",
       "    </tr>\n",
       "    <tr>\n",
       "      <th>CD8+ T naive</th>\n",
       "      <td>0</td>\n",
       "      <td>0</td>\n",
       "      <td>199</td>\n",
       "      <td>0</td>\n",
       "      <td>0</td>\n",
       "    </tr>\n",
       "    <tr>\n",
       "      <th>Erythroblast</th>\n",
       "      <td>797</td>\n",
       "      <td>136</td>\n",
       "      <td>374</td>\n",
       "      <td>1485</td>\n",
       "      <td>64</td>\n",
       "    </tr>\n",
       "    <tr>\n",
       "      <th>G/M prog</th>\n",
       "      <td>110</td>\n",
       "      <td>0</td>\n",
       "      <td>0</td>\n",
       "      <td>92</td>\n",
       "      <td>0</td>\n",
       "    </tr>\n",
       "    <tr>\n",
       "      <th>HSC</th>\n",
       "      <td>41</td>\n",
       "      <td>33</td>\n",
       "      <td>24</td>\n",
       "      <td>100</td>\n",
       "      <td>20</td>\n",
       "    </tr>\n",
       "    <tr>\n",
       "      <th>HSPC/Mono prog</th>\n",
       "      <td>0</td>\n",
       "      <td>27</td>\n",
       "      <td>0</td>\n",
       "      <td>0</td>\n",
       "      <td>0</td>\n",
       "    </tr>\n",
       "    <tr>\n",
       "      <th>ID2-hi myeloid prog</th>\n",
       "      <td>67</td>\n",
       "      <td>41</td>\n",
       "      <td>0</td>\n",
       "      <td>0</td>\n",
       "      <td>0</td>\n",
       "    </tr>\n",
       "    <tr>\n",
       "      <th>ILC</th>\n",
       "      <td>102</td>\n",
       "      <td>367</td>\n",
       "      <td>124</td>\n",
       "      <td>0</td>\n",
       "      <td>95</td>\n",
       "    </tr>\n",
       "    <tr>\n",
       "      <th>Lymph prog</th>\n",
       "      <td>52</td>\n",
       "      <td>28</td>\n",
       "      <td>57</td>\n",
       "      <td>286</td>\n",
       "      <td>0</td>\n",
       "    </tr>\n",
       "    <tr>\n",
       "      <th>MK/E prog</th>\n",
       "      <td>64</td>\n",
       "      <td>71</td>\n",
       "      <td>24</td>\n",
       "      <td>33</td>\n",
       "      <td>0</td>\n",
       "    </tr>\n",
       "    <tr>\n",
       "      <th>NK</th>\n",
       "      <td>591</td>\n",
       "      <td>982</td>\n",
       "      <td>696</td>\n",
       "      <td>136</td>\n",
       "      <td>848</td>\n",
       "    </tr>\n",
       "    <tr>\n",
       "      <th>Naive CD20+ B</th>\n",
       "      <td>0</td>\n",
       "      <td>121</td>\n",
       "      <td>133</td>\n",
       "      <td>590</td>\n",
       "      <td>105</td>\n",
       "    </tr>\n",
       "    <tr>\n",
       "      <th>Normoblast</th>\n",
       "      <td>387</td>\n",
       "      <td>69</td>\n",
       "      <td>90</td>\n",
       "      <td>641</td>\n",
       "      <td>17</td>\n",
       "    </tr>\n",
       "    <tr>\n",
       "      <th>Plasma cell</th>\n",
       "      <td>0</td>\n",
       "      <td>13</td>\n",
       "      <td>0</td>\n",
       "      <td>0</td>\n",
       "      <td>16</td>\n",
       "    </tr>\n",
       "    <tr>\n",
       "      <th>Plasma cells</th>\n",
       "      <td>59</td>\n",
       "      <td>0</td>\n",
       "      <td>0</td>\n",
       "      <td>0</td>\n",
       "      <td>0</td>\n",
       "    </tr>\n",
       "    <tr>\n",
       "      <th>Proerythroblast</th>\n",
       "      <td>65</td>\n",
       "      <td>30</td>\n",
       "      <td>116</td>\n",
       "      <td>316</td>\n",
       "      <td>18</td>\n",
       "    </tr>\n",
       "    <tr>\n",
       "      <th>Transitional B</th>\n",
       "      <td>83</td>\n",
       "      <td>40</td>\n",
       "      <td>51</td>\n",
       "      <td>185</td>\n",
       "      <td>0</td>\n",
       "    </tr>\n",
       "    <tr>\n",
       "      <th>cDC2</th>\n",
       "      <td>36</td>\n",
       "      <td>89</td>\n",
       "      <td>74</td>\n",
       "      <td>53</td>\n",
       "      <td>30</td>\n",
       "    </tr>\n",
       "    <tr>\n",
       "      <th>naive CD20+ B</th>\n",
       "      <td>386</td>\n",
       "      <td>0</td>\n",
       "      <td>0</td>\n",
       "      <td>0</td>\n",
       "      <td>0</td>\n",
       "    </tr>\n",
       "    <tr>\n",
       "      <th>pDC</th>\n",
       "      <td>92</td>\n",
       "      <td>0</td>\n",
       "      <td>0</td>\n",
       "      <td>48</td>\n",
       "      <td>55</td>\n",
       "    </tr>\n",
       "    <tr>\n",
       "      <th>pDCs</th>\n",
       "      <td>0</td>\n",
       "      <td>53</td>\n",
       "      <td>31</td>\n",
       "      <td>0</td>\n",
       "      <td>0</td>\n",
       "    </tr>\n",
       "  </tbody>\n",
       "</table>\n",
       "</div>"
      ],
      "text/plain": [
       "batch                s1d1  s1d2  s1d3  s2d4  s2d5\n",
       "cell_type                                        \n",
       "B1 B                  201   127    73     0   123\n",
       "CD14+ Mono            921   704   242  1140  1716\n",
       "CD16+ Mono             66   179    26   177   380\n",
       "CD4+ T activated      836   709   392   385   493\n",
       "CD4+ T naive          543  1289   533   214   163\n",
       "CD8+ T                725  1632  1020   230   752\n",
       "CD8+ T naive            0     0   199     0     0\n",
       "Erythroblast          797   136   374  1485    64\n",
       "G/M prog              110     0     0    92     0\n",
       "HSC                    41    33    24   100    20\n",
       "HSPC/Mono prog          0    27     0     0     0\n",
       "ID2-hi myeloid prog    67    41     0     0     0\n",
       "ILC                   102   367   124     0    95\n",
       "Lymph prog             52    28    57   286     0\n",
       "MK/E prog              64    71    24    33     0\n",
       "NK                    591   982   696   136   848\n",
       "Naive CD20+ B           0   121   133   590   105\n",
       "Normoblast            387    69    90   641    17\n",
       "Plasma cell             0    13     0     0    16\n",
       "Plasma cells           59     0     0     0     0\n",
       "Proerythroblast        65    30   116   316    18\n",
       "Transitional B         83    40    51   185     0\n",
       "cDC2                   36    89    74    53    30\n",
       "naive CD20+ B         386     0     0     0     0\n",
       "pDC                    92     0     0    48    55\n",
       "pDCs                    0    53    31     0     0"
      ]
     },
     "execution_count": 38,
     "metadata": {},
     "output_type": "execute_result"
    }
   ],
   "source": [
    "pd.crosstab(rna_dat.obs['cell_type'], rna_dat.obs['batch'])"
   ]
  },
  {
   "cell_type": "code",
   "execution_count": 39,
   "id": "ae832588-2331-43f6-b469-b1790d5d8942",
   "metadata": {
    "execution": {
     "iopub.execute_input": "2021-08-26T19:12:23.091848Z",
     "iopub.status.busy": "2021-08-26T19:12:23.091606Z",
     "iopub.status.idle": "2021-08-26T19:12:23.165848Z",
     "shell.execute_reply": "2021-08-26T19:12:23.165139Z",
     "shell.execute_reply.started": "2021-08-26T19:12:23.091824Z"
    },
    "tags": []
   },
   "outputs": [
    {
     "data": {
      "text/html": [
       "<div>\n",
       "<style scoped>\n",
       "    .dataframe tbody tr th:only-of-type {\n",
       "        vertical-align: middle;\n",
       "    }\n",
       "\n",
       "    .dataframe tbody tr th {\n",
       "        vertical-align: top;\n",
       "    }\n",
       "\n",
       "    .dataframe thead th {\n",
       "        text-align: right;\n",
       "    }\n",
       "</style>\n",
       "<table border=\"1\" class=\"dataframe\">\n",
       "  <thead>\n",
       "    <tr style=\"text-align: right;\">\n",
       "      <th>batch</th>\n",
       "      <th>s1d1</th>\n",
       "      <th>s1d2</th>\n",
       "      <th>s1d3</th>\n",
       "      <th>s2d4</th>\n",
       "      <th>s2d5</th>\n",
       "    </tr>\n",
       "    <tr>\n",
       "      <th>cell_type</th>\n",
       "      <th></th>\n",
       "      <th></th>\n",
       "      <th></th>\n",
       "      <th></th>\n",
       "      <th></th>\n",
       "    </tr>\n",
       "  </thead>\n",
       "  <tbody>\n",
       "    <tr>\n",
       "      <th>B1 B</th>\n",
       "      <td>201</td>\n",
       "      <td>127</td>\n",
       "      <td>73</td>\n",
       "      <td>0</td>\n",
       "      <td>123</td>\n",
       "    </tr>\n",
       "    <tr>\n",
       "      <th>CD14+ Mono</th>\n",
       "      <td>921</td>\n",
       "      <td>704</td>\n",
       "      <td>242</td>\n",
       "      <td>1140</td>\n",
       "      <td>1716</td>\n",
       "    </tr>\n",
       "    <tr>\n",
       "      <th>CD16+ Mono</th>\n",
       "      <td>66</td>\n",
       "      <td>179</td>\n",
       "      <td>26</td>\n",
       "      <td>177</td>\n",
       "      <td>380</td>\n",
       "    </tr>\n",
       "    <tr>\n",
       "      <th>CD4+ T activated</th>\n",
       "      <td>836</td>\n",
       "      <td>709</td>\n",
       "      <td>392</td>\n",
       "      <td>385</td>\n",
       "      <td>493</td>\n",
       "    </tr>\n",
       "    <tr>\n",
       "      <th>CD4+ T naive</th>\n",
       "      <td>543</td>\n",
       "      <td>1289</td>\n",
       "      <td>533</td>\n",
       "      <td>214</td>\n",
       "      <td>163</td>\n",
       "    </tr>\n",
       "    <tr>\n",
       "      <th>CD8+ T</th>\n",
       "      <td>725</td>\n",
       "      <td>1632</td>\n",
       "      <td>1020</td>\n",
       "      <td>230</td>\n",
       "      <td>752</td>\n",
       "    </tr>\n",
       "    <tr>\n",
       "      <th>CD8+ T naive</th>\n",
       "      <td>0</td>\n",
       "      <td>0</td>\n",
       "      <td>199</td>\n",
       "      <td>0</td>\n",
       "      <td>0</td>\n",
       "    </tr>\n",
       "    <tr>\n",
       "      <th>Erythroblast</th>\n",
       "      <td>797</td>\n",
       "      <td>136</td>\n",
       "      <td>374</td>\n",
       "      <td>1485</td>\n",
       "      <td>64</td>\n",
       "    </tr>\n",
       "    <tr>\n",
       "      <th>G/M prog</th>\n",
       "      <td>110</td>\n",
       "      <td>0</td>\n",
       "      <td>0</td>\n",
       "      <td>92</td>\n",
       "      <td>0</td>\n",
       "    </tr>\n",
       "    <tr>\n",
       "      <th>HSC</th>\n",
       "      <td>41</td>\n",
       "      <td>33</td>\n",
       "      <td>24</td>\n",
       "      <td>100</td>\n",
       "      <td>20</td>\n",
       "    </tr>\n",
       "    <tr>\n",
       "      <th>HSPC/Mono prog</th>\n",
       "      <td>0</td>\n",
       "      <td>27</td>\n",
       "      <td>0</td>\n",
       "      <td>0</td>\n",
       "      <td>0</td>\n",
       "    </tr>\n",
       "    <tr>\n",
       "      <th>ID2-hi myeloid prog</th>\n",
       "      <td>67</td>\n",
       "      <td>41</td>\n",
       "      <td>0</td>\n",
       "      <td>0</td>\n",
       "      <td>0</td>\n",
       "    </tr>\n",
       "    <tr>\n",
       "      <th>ILC</th>\n",
       "      <td>102</td>\n",
       "      <td>367</td>\n",
       "      <td>124</td>\n",
       "      <td>0</td>\n",
       "      <td>95</td>\n",
       "    </tr>\n",
       "    <tr>\n",
       "      <th>Lymph prog</th>\n",
       "      <td>52</td>\n",
       "      <td>28</td>\n",
       "      <td>57</td>\n",
       "      <td>286</td>\n",
       "      <td>0</td>\n",
       "    </tr>\n",
       "    <tr>\n",
       "      <th>MK/E prog</th>\n",
       "      <td>64</td>\n",
       "      <td>71</td>\n",
       "      <td>24</td>\n",
       "      <td>33</td>\n",
       "      <td>0</td>\n",
       "    </tr>\n",
       "    <tr>\n",
       "      <th>NK</th>\n",
       "      <td>591</td>\n",
       "      <td>982</td>\n",
       "      <td>696</td>\n",
       "      <td>136</td>\n",
       "      <td>848</td>\n",
       "    </tr>\n",
       "    <tr>\n",
       "      <th>Naive CD20+ B</th>\n",
       "      <td>0</td>\n",
       "      <td>121</td>\n",
       "      <td>133</td>\n",
       "      <td>590</td>\n",
       "      <td>105</td>\n",
       "    </tr>\n",
       "    <tr>\n",
       "      <th>Normoblast</th>\n",
       "      <td>387</td>\n",
       "      <td>69</td>\n",
       "      <td>90</td>\n",
       "      <td>641</td>\n",
       "      <td>17</td>\n",
       "    </tr>\n",
       "    <tr>\n",
       "      <th>Plasma cell</th>\n",
       "      <td>0</td>\n",
       "      <td>13</td>\n",
       "      <td>0</td>\n",
       "      <td>0</td>\n",
       "      <td>16</td>\n",
       "    </tr>\n",
       "    <tr>\n",
       "      <th>Plasma cells</th>\n",
       "      <td>59</td>\n",
       "      <td>0</td>\n",
       "      <td>0</td>\n",
       "      <td>0</td>\n",
       "      <td>0</td>\n",
       "    </tr>\n",
       "    <tr>\n",
       "      <th>Proerythroblast</th>\n",
       "      <td>65</td>\n",
       "      <td>30</td>\n",
       "      <td>116</td>\n",
       "      <td>316</td>\n",
       "      <td>18</td>\n",
       "    </tr>\n",
       "    <tr>\n",
       "      <th>Transitional B</th>\n",
       "      <td>83</td>\n",
       "      <td>40</td>\n",
       "      <td>51</td>\n",
       "      <td>185</td>\n",
       "      <td>0</td>\n",
       "    </tr>\n",
       "    <tr>\n",
       "      <th>cDC2</th>\n",
       "      <td>36</td>\n",
       "      <td>89</td>\n",
       "      <td>74</td>\n",
       "      <td>53</td>\n",
       "      <td>30</td>\n",
       "    </tr>\n",
       "    <tr>\n",
       "      <th>naive CD20+ B</th>\n",
       "      <td>386</td>\n",
       "      <td>0</td>\n",
       "      <td>0</td>\n",
       "      <td>0</td>\n",
       "      <td>0</td>\n",
       "    </tr>\n",
       "    <tr>\n",
       "      <th>pDC</th>\n",
       "      <td>92</td>\n",
       "      <td>0</td>\n",
       "      <td>0</td>\n",
       "      <td>48</td>\n",
       "      <td>55</td>\n",
       "    </tr>\n",
       "    <tr>\n",
       "      <th>pDCs</th>\n",
       "      <td>0</td>\n",
       "      <td>53</td>\n",
       "      <td>31</td>\n",
       "      <td>0</td>\n",
       "      <td>0</td>\n",
       "    </tr>\n",
       "  </tbody>\n",
       "</table>\n",
       "</div>"
      ],
      "text/plain": [
       "batch                s1d1  s1d2  s1d3  s2d4  s2d5\n",
       "cell_type                                        \n",
       "B1 B                  201   127    73     0   123\n",
       "CD14+ Mono            921   704   242  1140  1716\n",
       "CD16+ Mono             66   179    26   177   380\n",
       "CD4+ T activated      836   709   392   385   493\n",
       "CD4+ T naive          543  1289   533   214   163\n",
       "CD8+ T                725  1632  1020   230   752\n",
       "CD8+ T naive            0     0   199     0     0\n",
       "Erythroblast          797   136   374  1485    64\n",
       "G/M prog              110     0     0    92     0\n",
       "HSC                    41    33    24   100    20\n",
       "HSPC/Mono prog          0    27     0     0     0\n",
       "ID2-hi myeloid prog    67    41     0     0     0\n",
       "ILC                   102   367   124     0    95\n",
       "Lymph prog             52    28    57   286     0\n",
       "MK/E prog              64    71    24    33     0\n",
       "NK                    591   982   696   136   848\n",
       "Naive CD20+ B           0   121   133   590   105\n",
       "Normoblast            387    69    90   641    17\n",
       "Plasma cell             0    13     0     0    16\n",
       "Plasma cells           59     0     0     0     0\n",
       "Proerythroblast        65    30   116   316    18\n",
       "Transitional B         83    40    51   185     0\n",
       "cDC2                   36    89    74    53    30\n",
       "naive CD20+ B         386     0     0     0     0\n",
       "pDC                    92     0     0    48    55\n",
       "pDCs                    0    53    31     0     0"
      ]
     },
     "execution_count": 39,
     "metadata": {},
     "output_type": "execute_result"
    }
   ],
   "source": [
    "pd.crosstab(atac_dat.obs['cell_type'], atac_dat.obs['batch'])"
   ]
  },
  {
   "cell_type": "code",
   "execution_count": 40,
   "id": "9e1c107e-50e2-45d5-a156-76435de33486",
   "metadata": {
    "execution": {
     "iopub.execute_input": "2021-08-26T19:12:29.278661Z",
     "iopub.status.busy": "2021-08-26T19:12:29.278395Z",
     "iopub.status.idle": "2021-08-26T19:12:29.281848Z",
     "shell.execute_reply": "2021-08-26T19:12:29.281250Z",
     "shell.execute_reply.started": "2021-08-26T19:12:29.278630Z"
    },
    "tags": []
   },
   "outputs": [],
   "source": [
    "# Harmonize annotations\n",
    "# pDCs -> pDC\n",
    "# naive CD2+ B -> Naive CD20+ B\n",
    "\n",
    "rename_clusts = {\n",
    "    'pDCs': 'pDC',\n",
    "    'naive CD20+ B': 'Naive CD20+ B',\n",
    "    'HSPC/Mono prog': 'G/M prog',\n",
    "    'Plasma cells': 'Plasma cell',\n",
    "    'Reticulocyte':'Normoblast'\n",
    "}"
   ]
  },
  {
   "cell_type": "code",
   "execution_count": 41,
   "id": "325005be-adc9-40a6-8907-47aa4f7f9319",
   "metadata": {
    "execution": {
     "iopub.execute_input": "2021-08-26T19:12:29.938916Z",
     "iopub.status.busy": "2021-08-26T19:12:29.938672Z",
     "iopub.status.idle": "2021-08-26T19:12:29.951144Z",
     "shell.execute_reply": "2021-08-26T19:12:29.950503Z",
     "shell.execute_reply.started": "2021-08-26T19:12:29.938893Z"
    },
    "tags": []
   },
   "outputs": [],
   "source": [
    "rna_dat.obs['cell_type'] = [rename_clusts[ct] if ct in rename_clusts else ct for ct in rna_dat.obs['cell_type']]\n",
    "atac_dat.obs['cell_type'] = [rename_clusts[ct] if ct in rename_clusts else ct for ct in atac_dat.obs['cell_type']]"
   ]
  },
  {
   "cell_type": "code",
   "execution_count": 42,
   "id": "58c8ba9d-3f60-468f-88be-a4014c87314b",
   "metadata": {
    "execution": {
     "iopub.execute_input": "2021-08-26T19:12:30.619912Z",
     "iopub.status.busy": "2021-08-26T19:12:30.619671Z",
     "iopub.status.idle": "2021-08-26T19:12:30.650284Z",
     "shell.execute_reply": "2021-08-26T19:12:30.649610Z",
     "shell.execute_reply.started": "2021-08-26T19:12:30.619887Z"
    },
    "tags": []
   },
   "outputs": [
    {
     "data": {
      "text/html": [
       "<div>\n",
       "<style scoped>\n",
       "    .dataframe tbody tr th:only-of-type {\n",
       "        vertical-align: middle;\n",
       "    }\n",
       "\n",
       "    .dataframe tbody tr th {\n",
       "        vertical-align: top;\n",
       "    }\n",
       "\n",
       "    .dataframe thead th {\n",
       "        text-align: right;\n",
       "    }\n",
       "</style>\n",
       "<table border=\"1\" class=\"dataframe\">\n",
       "  <thead>\n",
       "    <tr style=\"text-align: right;\">\n",
       "      <th>batch</th>\n",
       "      <th>s1d1</th>\n",
       "      <th>s1d2</th>\n",
       "      <th>s1d3</th>\n",
       "      <th>s2d4</th>\n",
       "      <th>s2d5</th>\n",
       "    </tr>\n",
       "    <tr>\n",
       "      <th>cell_type</th>\n",
       "      <th></th>\n",
       "      <th></th>\n",
       "      <th></th>\n",
       "      <th></th>\n",
       "      <th></th>\n",
       "    </tr>\n",
       "  </thead>\n",
       "  <tbody>\n",
       "    <tr>\n",
       "      <th>B1 B</th>\n",
       "      <td>201</td>\n",
       "      <td>127</td>\n",
       "      <td>73</td>\n",
       "      <td>0</td>\n",
       "      <td>123</td>\n",
       "    </tr>\n",
       "    <tr>\n",
       "      <th>CD14+ Mono</th>\n",
       "      <td>921</td>\n",
       "      <td>704</td>\n",
       "      <td>242</td>\n",
       "      <td>1140</td>\n",
       "      <td>1716</td>\n",
       "    </tr>\n",
       "    <tr>\n",
       "      <th>CD16+ Mono</th>\n",
       "      <td>66</td>\n",
       "      <td>179</td>\n",
       "      <td>26</td>\n",
       "      <td>177</td>\n",
       "      <td>380</td>\n",
       "    </tr>\n",
       "    <tr>\n",
       "      <th>CD4+ T activated</th>\n",
       "      <td>836</td>\n",
       "      <td>709</td>\n",
       "      <td>392</td>\n",
       "      <td>385</td>\n",
       "      <td>493</td>\n",
       "    </tr>\n",
       "    <tr>\n",
       "      <th>CD4+ T naive</th>\n",
       "      <td>543</td>\n",
       "      <td>1289</td>\n",
       "      <td>533</td>\n",
       "      <td>214</td>\n",
       "      <td>163</td>\n",
       "    </tr>\n",
       "    <tr>\n",
       "      <th>CD8+ T</th>\n",
       "      <td>725</td>\n",
       "      <td>1632</td>\n",
       "      <td>1020</td>\n",
       "      <td>230</td>\n",
       "      <td>752</td>\n",
       "    </tr>\n",
       "    <tr>\n",
       "      <th>CD8+ T naive</th>\n",
       "      <td>0</td>\n",
       "      <td>0</td>\n",
       "      <td>199</td>\n",
       "      <td>0</td>\n",
       "      <td>0</td>\n",
       "    </tr>\n",
       "    <tr>\n",
       "      <th>Erythroblast</th>\n",
       "      <td>797</td>\n",
       "      <td>136</td>\n",
       "      <td>374</td>\n",
       "      <td>1485</td>\n",
       "      <td>64</td>\n",
       "    </tr>\n",
       "    <tr>\n",
       "      <th>G/M prog</th>\n",
       "      <td>110</td>\n",
       "      <td>27</td>\n",
       "      <td>0</td>\n",
       "      <td>92</td>\n",
       "      <td>0</td>\n",
       "    </tr>\n",
       "    <tr>\n",
       "      <th>HSC</th>\n",
       "      <td>41</td>\n",
       "      <td>33</td>\n",
       "      <td>24</td>\n",
       "      <td>100</td>\n",
       "      <td>20</td>\n",
       "    </tr>\n",
       "    <tr>\n",
       "      <th>ID2-hi myeloid prog</th>\n",
       "      <td>67</td>\n",
       "      <td>41</td>\n",
       "      <td>0</td>\n",
       "      <td>0</td>\n",
       "      <td>0</td>\n",
       "    </tr>\n",
       "    <tr>\n",
       "      <th>ILC</th>\n",
       "      <td>102</td>\n",
       "      <td>367</td>\n",
       "      <td>124</td>\n",
       "      <td>0</td>\n",
       "      <td>95</td>\n",
       "    </tr>\n",
       "    <tr>\n",
       "      <th>Lymph prog</th>\n",
       "      <td>52</td>\n",
       "      <td>28</td>\n",
       "      <td>57</td>\n",
       "      <td>286</td>\n",
       "      <td>0</td>\n",
       "    </tr>\n",
       "    <tr>\n",
       "      <th>MK/E prog</th>\n",
       "      <td>64</td>\n",
       "      <td>71</td>\n",
       "      <td>24</td>\n",
       "      <td>33</td>\n",
       "      <td>0</td>\n",
       "    </tr>\n",
       "    <tr>\n",
       "      <th>NK</th>\n",
       "      <td>591</td>\n",
       "      <td>982</td>\n",
       "      <td>696</td>\n",
       "      <td>136</td>\n",
       "      <td>848</td>\n",
       "    </tr>\n",
       "    <tr>\n",
       "      <th>Naive CD20+ B</th>\n",
       "      <td>386</td>\n",
       "      <td>121</td>\n",
       "      <td>133</td>\n",
       "      <td>590</td>\n",
       "      <td>105</td>\n",
       "    </tr>\n",
       "    <tr>\n",
       "      <th>Normoblast</th>\n",
       "      <td>387</td>\n",
       "      <td>69</td>\n",
       "      <td>90</td>\n",
       "      <td>641</td>\n",
       "      <td>17</td>\n",
       "    </tr>\n",
       "    <tr>\n",
       "      <th>Plasma cell</th>\n",
       "      <td>59</td>\n",
       "      <td>13</td>\n",
       "      <td>0</td>\n",
       "      <td>0</td>\n",
       "      <td>16</td>\n",
       "    </tr>\n",
       "    <tr>\n",
       "      <th>Proerythroblast</th>\n",
       "      <td>65</td>\n",
       "      <td>30</td>\n",
       "      <td>116</td>\n",
       "      <td>316</td>\n",
       "      <td>18</td>\n",
       "    </tr>\n",
       "    <tr>\n",
       "      <th>Transitional B</th>\n",
       "      <td>83</td>\n",
       "      <td>40</td>\n",
       "      <td>51</td>\n",
       "      <td>185</td>\n",
       "      <td>0</td>\n",
       "    </tr>\n",
       "    <tr>\n",
       "      <th>cDC2</th>\n",
       "      <td>36</td>\n",
       "      <td>89</td>\n",
       "      <td>74</td>\n",
       "      <td>53</td>\n",
       "      <td>30</td>\n",
       "    </tr>\n",
       "    <tr>\n",
       "      <th>pDC</th>\n",
       "      <td>92</td>\n",
       "      <td>53</td>\n",
       "      <td>31</td>\n",
       "      <td>48</td>\n",
       "      <td>55</td>\n",
       "    </tr>\n",
       "  </tbody>\n",
       "</table>\n",
       "</div>"
      ],
      "text/plain": [
       "batch                s1d1  s1d2  s1d3  s2d4  s2d5\n",
       "cell_type                                        \n",
       "B1 B                  201   127    73     0   123\n",
       "CD14+ Mono            921   704   242  1140  1716\n",
       "CD16+ Mono             66   179    26   177   380\n",
       "CD4+ T activated      836   709   392   385   493\n",
       "CD4+ T naive          543  1289   533   214   163\n",
       "CD8+ T                725  1632  1020   230   752\n",
       "CD8+ T naive            0     0   199     0     0\n",
       "Erythroblast          797   136   374  1485    64\n",
       "G/M prog              110    27     0    92     0\n",
       "HSC                    41    33    24   100    20\n",
       "ID2-hi myeloid prog    67    41     0     0     0\n",
       "ILC                   102   367   124     0    95\n",
       "Lymph prog             52    28    57   286     0\n",
       "MK/E prog              64    71    24    33     0\n",
       "NK                    591   982   696   136   848\n",
       "Naive CD20+ B         386   121   133   590   105\n",
       "Normoblast            387    69    90   641    17\n",
       "Plasma cell            59    13     0     0    16\n",
       "Proerythroblast        65    30   116   316    18\n",
       "Transitional B         83    40    51   185     0\n",
       "cDC2                   36    89    74    53    30\n",
       "pDC                    92    53    31    48    55"
      ]
     },
     "execution_count": 42,
     "metadata": {},
     "output_type": "execute_result"
    }
   ],
   "source": [
    "pd.crosstab(rna_dat.obs['cell_type'], rna_dat.obs['batch'])"
   ]
  },
  {
   "cell_type": "code",
   "execution_count": 43,
   "id": "d4dc8a72-2f77-4274-b9a0-31a8b8f629ed",
   "metadata": {
    "execution": {
     "iopub.execute_input": "2021-08-26T19:12:49.113039Z",
     "iopub.status.busy": "2021-08-26T19:12:49.112802Z",
     "iopub.status.idle": "2021-08-26T19:12:49.146878Z",
     "shell.execute_reply": "2021-08-26T19:12:49.146296Z",
     "shell.execute_reply.started": "2021-08-26T19:12:49.113017Z"
    },
    "tags": []
   },
   "outputs": [
    {
     "data": {
      "text/html": [
       "<div>\n",
       "<style scoped>\n",
       "    .dataframe tbody tr th:only-of-type {\n",
       "        vertical-align: middle;\n",
       "    }\n",
       "\n",
       "    .dataframe tbody tr th {\n",
       "        vertical-align: top;\n",
       "    }\n",
       "\n",
       "    .dataframe thead th {\n",
       "        text-align: right;\n",
       "    }\n",
       "</style>\n",
       "<table border=\"1\" class=\"dataframe\">\n",
       "  <thead>\n",
       "    <tr style=\"text-align: right;\">\n",
       "      <th>batch</th>\n",
       "      <th>s1d1</th>\n",
       "      <th>s1d2</th>\n",
       "      <th>s1d3</th>\n",
       "      <th>s2d4</th>\n",
       "      <th>s2d5</th>\n",
       "    </tr>\n",
       "    <tr>\n",
       "      <th>cell_type</th>\n",
       "      <th></th>\n",
       "      <th></th>\n",
       "      <th></th>\n",
       "      <th></th>\n",
       "      <th></th>\n",
       "    </tr>\n",
       "  </thead>\n",
       "  <tbody>\n",
       "    <tr>\n",
       "      <th>B1 B</th>\n",
       "      <td>201</td>\n",
       "      <td>127</td>\n",
       "      <td>73</td>\n",
       "      <td>0</td>\n",
       "      <td>123</td>\n",
       "    </tr>\n",
       "    <tr>\n",
       "      <th>CD14+ Mono</th>\n",
       "      <td>921</td>\n",
       "      <td>704</td>\n",
       "      <td>242</td>\n",
       "      <td>1140</td>\n",
       "      <td>1716</td>\n",
       "    </tr>\n",
       "    <tr>\n",
       "      <th>CD16+ Mono</th>\n",
       "      <td>66</td>\n",
       "      <td>179</td>\n",
       "      <td>26</td>\n",
       "      <td>177</td>\n",
       "      <td>380</td>\n",
       "    </tr>\n",
       "    <tr>\n",
       "      <th>CD4+ T activated</th>\n",
       "      <td>836</td>\n",
       "      <td>709</td>\n",
       "      <td>392</td>\n",
       "      <td>385</td>\n",
       "      <td>493</td>\n",
       "    </tr>\n",
       "    <tr>\n",
       "      <th>CD4+ T naive</th>\n",
       "      <td>543</td>\n",
       "      <td>1289</td>\n",
       "      <td>533</td>\n",
       "      <td>214</td>\n",
       "      <td>163</td>\n",
       "    </tr>\n",
       "    <tr>\n",
       "      <th>CD8+ T</th>\n",
       "      <td>725</td>\n",
       "      <td>1632</td>\n",
       "      <td>1020</td>\n",
       "      <td>230</td>\n",
       "      <td>752</td>\n",
       "    </tr>\n",
       "    <tr>\n",
       "      <th>CD8+ T naive</th>\n",
       "      <td>0</td>\n",
       "      <td>0</td>\n",
       "      <td>199</td>\n",
       "      <td>0</td>\n",
       "      <td>0</td>\n",
       "    </tr>\n",
       "    <tr>\n",
       "      <th>Erythroblast</th>\n",
       "      <td>797</td>\n",
       "      <td>136</td>\n",
       "      <td>374</td>\n",
       "      <td>1485</td>\n",
       "      <td>64</td>\n",
       "    </tr>\n",
       "    <tr>\n",
       "      <th>G/M prog</th>\n",
       "      <td>110</td>\n",
       "      <td>27</td>\n",
       "      <td>0</td>\n",
       "      <td>92</td>\n",
       "      <td>0</td>\n",
       "    </tr>\n",
       "    <tr>\n",
       "      <th>HSC</th>\n",
       "      <td>41</td>\n",
       "      <td>33</td>\n",
       "      <td>24</td>\n",
       "      <td>100</td>\n",
       "      <td>20</td>\n",
       "    </tr>\n",
       "    <tr>\n",
       "      <th>ID2-hi myeloid prog</th>\n",
       "      <td>67</td>\n",
       "      <td>41</td>\n",
       "      <td>0</td>\n",
       "      <td>0</td>\n",
       "      <td>0</td>\n",
       "    </tr>\n",
       "    <tr>\n",
       "      <th>ILC</th>\n",
       "      <td>102</td>\n",
       "      <td>367</td>\n",
       "      <td>124</td>\n",
       "      <td>0</td>\n",
       "      <td>95</td>\n",
       "    </tr>\n",
       "    <tr>\n",
       "      <th>Lymph prog</th>\n",
       "      <td>52</td>\n",
       "      <td>28</td>\n",
       "      <td>57</td>\n",
       "      <td>286</td>\n",
       "      <td>0</td>\n",
       "    </tr>\n",
       "    <tr>\n",
       "      <th>MK/E prog</th>\n",
       "      <td>64</td>\n",
       "      <td>71</td>\n",
       "      <td>24</td>\n",
       "      <td>33</td>\n",
       "      <td>0</td>\n",
       "    </tr>\n",
       "    <tr>\n",
       "      <th>NK</th>\n",
       "      <td>591</td>\n",
       "      <td>982</td>\n",
       "      <td>696</td>\n",
       "      <td>136</td>\n",
       "      <td>848</td>\n",
       "    </tr>\n",
       "    <tr>\n",
       "      <th>Naive CD20+ B</th>\n",
       "      <td>386</td>\n",
       "      <td>121</td>\n",
       "      <td>133</td>\n",
       "      <td>590</td>\n",
       "      <td>105</td>\n",
       "    </tr>\n",
       "    <tr>\n",
       "      <th>Normoblast</th>\n",
       "      <td>387</td>\n",
       "      <td>69</td>\n",
       "      <td>90</td>\n",
       "      <td>641</td>\n",
       "      <td>17</td>\n",
       "    </tr>\n",
       "    <tr>\n",
       "      <th>Plasma cell</th>\n",
       "      <td>59</td>\n",
       "      <td>13</td>\n",
       "      <td>0</td>\n",
       "      <td>0</td>\n",
       "      <td>16</td>\n",
       "    </tr>\n",
       "    <tr>\n",
       "      <th>Proerythroblast</th>\n",
       "      <td>65</td>\n",
       "      <td>30</td>\n",
       "      <td>116</td>\n",
       "      <td>316</td>\n",
       "      <td>18</td>\n",
       "    </tr>\n",
       "    <tr>\n",
       "      <th>Transitional B</th>\n",
       "      <td>83</td>\n",
       "      <td>40</td>\n",
       "      <td>51</td>\n",
       "      <td>185</td>\n",
       "      <td>0</td>\n",
       "    </tr>\n",
       "    <tr>\n",
       "      <th>cDC2</th>\n",
       "      <td>36</td>\n",
       "      <td>89</td>\n",
       "      <td>74</td>\n",
       "      <td>53</td>\n",
       "      <td>30</td>\n",
       "    </tr>\n",
       "    <tr>\n",
       "      <th>pDC</th>\n",
       "      <td>92</td>\n",
       "      <td>53</td>\n",
       "      <td>31</td>\n",
       "      <td>48</td>\n",
       "      <td>55</td>\n",
       "    </tr>\n",
       "  </tbody>\n",
       "</table>\n",
       "</div>"
      ],
      "text/plain": [
       "batch                s1d1  s1d2  s1d3  s2d4  s2d5\n",
       "cell_type                                        \n",
       "B1 B                  201   127    73     0   123\n",
       "CD14+ Mono            921   704   242  1140  1716\n",
       "CD16+ Mono             66   179    26   177   380\n",
       "CD4+ T activated      836   709   392   385   493\n",
       "CD4+ T naive          543  1289   533   214   163\n",
       "CD8+ T                725  1632  1020   230   752\n",
       "CD8+ T naive            0     0   199     0     0\n",
       "Erythroblast          797   136   374  1485    64\n",
       "G/M prog              110    27     0    92     0\n",
       "HSC                    41    33    24   100    20\n",
       "ID2-hi myeloid prog    67    41     0     0     0\n",
       "ILC                   102   367   124     0    95\n",
       "Lymph prog             52    28    57   286     0\n",
       "MK/E prog              64    71    24    33     0\n",
       "NK                    591   982   696   136   848\n",
       "Naive CD20+ B         386   121   133   590   105\n",
       "Normoblast            387    69    90   641    17\n",
       "Plasma cell            59    13     0     0    16\n",
       "Proerythroblast        65    30   116   316    18\n",
       "Transitional B         83    40    51   185     0\n",
       "cDC2                   36    89    74    53    30\n",
       "pDC                    92    53    31    48    55"
      ]
     },
     "execution_count": 43,
     "metadata": {},
     "output_type": "execute_result"
    }
   ],
   "source": [
    "pd.crosstab(atac_dat.obs['cell_type'], atac_dat.obs['batch'])"
   ]
  },
  {
   "cell_type": "markdown",
   "id": "46ff3b44-13df-46d9-81ab-afe49384a9c4",
   "metadata": {},
   "source": [
    "# Make open problems pipeline compatible"
   ]
  },
  {
   "cell_type": "code",
   "execution_count": 44,
   "id": "ef922e3c-3142-4b3b-a9bc-75b387a6b50a",
   "metadata": {
    "execution": {
     "iopub.execute_input": "2021-08-26T19:13:22.318049Z",
     "iopub.status.busy": "2021-08-26T19:13:22.317785Z",
     "iopub.status.idle": "2021-08-26T19:13:22.321560Z",
     "shell.execute_reply": "2021-08-26T19:13:22.320679Z",
     "shell.execute_reply.started": "2021-08-26T19:13:22.318023Z"
    },
    "tags": []
   },
   "outputs": [],
   "source": [
    "# Add dataset ID\n",
    "rna_dat.uns['dataset_id'] = \"openproblems_bmmc_multiome\"\n",
    "atac_dat.uns['dataset_id'] = \"openproblems_bmmc_multiome\""
   ]
  },
  {
   "cell_type": "code",
   "execution_count": 45,
   "id": "16eae116-a678-4dc3-a95c-be145862bf19",
   "metadata": {
    "execution": {
     "iopub.execute_input": "2021-08-26T19:13:22.910226Z",
     "iopub.status.busy": "2021-08-26T19:13:22.909995Z",
     "iopub.status.idle": "2021-08-26T19:13:22.913375Z",
     "shell.execute_reply": "2021-08-26T19:13:22.912684Z",
     "shell.execute_reply.started": "2021-08-26T19:13:22.910204Z"
    },
    "tags": []
   },
   "outputs": [],
   "source": [
    "# Add organism\n",
    "rna_dat.uns['organism'] = \"human\"\n",
    "atac_dat.uns['organism'] = \"human\""
   ]
  },
  {
   "cell_type": "code",
   "execution_count": 46,
   "id": "457b78f6-268e-46f8-89fe-40822ad83fd9",
   "metadata": {
    "execution": {
     "iopub.execute_input": "2021-08-26T19:13:23.724144Z",
     "iopub.status.busy": "2021-08-26T19:13:23.723908Z",
     "iopub.status.idle": "2021-08-26T19:13:26.222632Z",
     "shell.execute_reply": "2021-08-26T19:13:26.222033Z",
     "shell.execute_reply.started": "2021-08-26T19:13:23.724122Z"
    },
    "tags": []
   },
   "outputs": [],
   "source": [
    "# Store as csc matrix\n",
    "rna_dat.X = csc_matrix(rna_dat.X)\n",
    "atac_dat.X = csc_matrix(atac_dat.X)"
   ]
  },
  {
   "cell_type": "code",
   "execution_count": 47,
   "id": "801c3e95-cfa0-455a-ac2d-04e1b773104c",
   "metadata": {
    "execution": {
     "iopub.execute_input": "2021-08-26T19:13:27.335143Z",
     "iopub.status.busy": "2021-08-26T19:13:27.334908Z",
     "iopub.status.idle": "2021-08-26T19:13:30.643104Z",
     "shell.execute_reply": "2021-08-26T19:13:30.642533Z",
     "shell.execute_reply.started": "2021-08-26T19:13:27.335121Z"
    },
    "tags": []
   },
   "outputs": [],
   "source": [
    "# Put scran-normalized data in adata.X\n",
    "rna_dat.layers['log_norm'] = rna_dat.X\n",
    "rna_dat.X = rna_dat.layers['counts']\n",
    "\n",
    "rna_dat.X /= rna_dat.obs['size_factors'].values[:,None]\n"
   ]
  },
  {
   "cell_type": "markdown",
   "id": "8122df16-83b2-4ea5-bf41-0b6977016be9",
   "metadata": {
    "tags": []
   },
   "source": [
    "# Write output files"
   ]
  },
  {
   "cell_type": "code",
   "execution_count": 48,
   "id": "e54a23b6-0d76-4567-9124-a1b21d14732a",
   "metadata": {
    "execution": {
     "iopub.execute_input": "2021-08-26T19:13:32.820749Z",
     "iopub.status.busy": "2021-08-26T19:13:32.820520Z",
     "iopub.status.idle": "2021-08-26T19:13:32.825130Z",
     "shell.execute_reply": "2021-08-26T19:13:32.824476Z",
     "shell.execute_reply.started": "2021-08-26T19:13:32.820728Z"
    },
    "tags": []
   },
   "outputs": [
    {
     "data": {
      "text/plain": [
       "AnnData object with n_obs × n_vars = 28249 × 15189\n",
       "    obs: 'n_genes_by_counts', 'pct_counts_mt', 'n_counts', 'n_genes', 'size_factors', 'phase', 'leiden_final', 'atac_ann', 'cell_type', 'pseudotime_order_GEX', 'batch'\n",
       "    var: 'gene_ids', 'feature_types', 'genome', 'n_cells-s1d1', 'highly_variable-s1d1', 'n_cells-s1d2', 'highly_variable-s1d2', 'n_cells-s1d3', 'highly_variable-s1d3', 'n_cells-s2d4', 'highly_variable-s2d4', 'n_cells-s2d5', 'highly_variable-s2d5'\n",
       "    uns: 'dataset_id', 'organism'\n",
       "    obsm: 'X_pca', 'X_umap'\n",
       "    layers: 'counts', 'log_norm'"
      ]
     },
     "execution_count": 48,
     "metadata": {},
     "output_type": "execute_result"
    }
   ],
   "source": [
    "rna_dat"
   ]
  },
  {
   "cell_type": "code",
   "execution_count": 49,
   "id": "cdc08cc3-7ecc-45da-9b8a-4ea747de5a55",
   "metadata": {
    "execution": {
     "iopub.execute_input": "2021-08-26T19:13:34.316174Z",
     "iopub.status.busy": "2021-08-26T19:13:34.315922Z",
     "iopub.status.idle": "2021-08-26T19:13:34.320571Z",
     "shell.execute_reply": "2021-08-26T19:13:34.319903Z",
     "shell.execute_reply.started": "2021-08-26T19:13:34.316150Z"
    },
    "tags": []
   },
   "outputs": [
    {
     "data": {
      "text/plain": [
       "AnnData object with n_obs × n_vars = 28249 × 119254\n",
       "    obs: 'nCount_peaks', 'atac_fragments', 'reads_in_peaks_frac', 'blacklist_fraction', 'nucleosome_signal', 'leiden_final', 'rna_ann', 'cell_type', 'pseudotime_order_ATAC', 'batch'\n",
       "    var: 'feature_types'\n",
       "    uns: 'gene_activity_var_names', 'dataset_id', 'organism'\n",
       "    obsm: 'gene_activity', 'lsi_full', 'lsi_red', 'umap'"
      ]
     },
     "execution_count": 49,
     "metadata": {},
     "output_type": "execute_result"
    }
   ],
   "source": [
    "atac_dat"
   ]
  },
  {
   "cell_type": "code",
   "execution_count": 50,
   "id": "166633e4-4b96-42f8-b935-9fb7a88c3358",
   "metadata": {
    "execution": {
     "iopub.execute_input": "2021-08-26T19:13:36.650178Z",
     "iopub.status.busy": "2021-08-26T19:13:36.649951Z",
     "iopub.status.idle": "2021-08-26T19:14:20.258087Z",
     "shell.execute_reply": "2021-08-26T19:14:20.257511Z",
     "shell.execute_reply.started": "2021-08-26T19:13:36.650156Z"
    },
    "tags": []
   },
   "outputs": [
    {
     "name": "stderr",
     "output_type": "stream",
     "text": [
      "... storing 'leiden_final' as categorical\n",
      "... storing 'atac_ann' as categorical\n",
      "... storing 'cell_type' as categorical\n",
      "... storing 'leiden_final' as categorical\n",
      "... storing 'rna_ann' as categorical\n",
      "... storing 'cell_type' as categorical\n"
     ]
    }
   ],
   "source": [
    "rna_dat.write(rna_output_filename)\n",
    "atac_dat.write(atac_output_filename)"
   ]
  },
  {
   "cell_type": "markdown",
   "id": "26b09164-996f-4e53-9943-fb4c3bde2afe",
   "metadata": {},
   "source": [
    "The output files can then be transferred to the server via:\n",
    "\n",
    "```\n",
    "aws s3 cp Multiome_atac_processed.h5ad s3://openproblems-bio/neurips2021/processed/atac/Multiome_atac_processed.h5ad\n",
    "aws s3 cp Multiome_gex_processed.h5ad s3://openproblems-bio/neurips2021/processed/atac/Multiome_gex_processed.h5ad\n",
    "```"
   ]
  }
 ],
 "metadata": {
  "kernelspec": {
   "display_name": "saturn (Python 3)",
   "language": "python",
   "name": "python3"
  },
  "language_info": {
   "codemirror_mode": {
    "name": "ipython",
    "version": 3
   },
   "file_extension": ".py",
   "mimetype": "text/x-python",
   "name": "python",
   "nbconvert_exporter": "python",
   "pygments_lexer": "ipython3",
   "version": "3.9.6"
  }
 },
 "nbformat": 4,
 "nbformat_minor": 5
}
