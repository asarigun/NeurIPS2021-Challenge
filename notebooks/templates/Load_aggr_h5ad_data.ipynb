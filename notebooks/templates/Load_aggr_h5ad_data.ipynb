{
 "cells": [
  {
   "cell_type": "markdown",
   "id": "409f75ca-c98d-465d-9290-e52cdf0cffa7",
   "metadata": {},
   "source": [
    "# Load and subset the aggregated multiome data"
   ]
  },
  {
   "cell_type": "code",
   "execution_count": 13,
   "id": "88c61ef2-274e-4541-826b-4e4b97649941",
   "metadata": {
    "execution": {
     "iopub.execute_input": "2021-08-20T16:34:54.368080Z",
     "iopub.status.busy": "2021-08-20T16:34:54.367839Z",
     "iopub.status.idle": "2021-08-20T16:34:54.371016Z",
     "shell.execute_reply": "2021-08-20T16:34:54.370419Z",
     "shell.execute_reply.started": "2021-08-20T16:34:54.368053Z"
    },
    "tags": []
   },
   "outputs": [],
   "source": [
    "import scanpy as sc\n",
    "import pandas as pd\n",
    "import numpy as np\n",
    "\n",
    "import os"
   ]
  },
  {
   "cell_type": "markdown",
   "id": "7783b5f7-1c3a-4c12-b2b5-b573b1fc5cb8",
   "metadata": {},
   "source": [
    "Download the annotated h5ad file from the aws bucket:+\n",
    "\n",
    "`aws s3 cp s3://openproblems-bio/neurips2021/multimodal_aggr_output/filtered_feature_bc_matrix.annotated.h5ad`\n",
    "\n",
    "\n"
   ]
  },
  {
   "cell_type": "code",
   "execution_count": 14,
   "id": "5f03f09e-bca8-45d2-8142-dd6352a6dd98",
   "metadata": {
    "execution": {
     "iopub.execute_input": "2021-08-20T16:39:08.985378Z",
     "iopub.status.busy": "2021-08-20T16:39:08.985137Z",
     "iopub.status.idle": "2021-08-20T16:39:08.989927Z",
     "shell.execute_reply": "2021-08-20T16:39:08.989172Z",
     "shell.execute_reply.started": "2021-08-20T16:39:08.985355Z"
    },
    "tags": []
   },
   "outputs": [
    {
     "data": {
      "text/plain": [
       "'/home/jovyan/project/neurips2021-notebooks/notebooks/templates'"
      ]
     },
     "execution_count": 14,
     "metadata": {},
     "output_type": "execute_result"
    }
   ],
   "source": [
    "os.getcwd()"
   ]
  },
  {
   "cell_type": "code",
   "execution_count": 15,
   "id": "74fa0048-c7d6-4929-8f6a-6a418c9e17f9",
   "metadata": {
    "execution": {
     "iopub.execute_input": "2021-08-20T16:39:09.382901Z",
     "iopub.status.busy": "2021-08-20T16:39:09.382665Z",
     "iopub.status.idle": "2021-08-20T16:39:09.385821Z",
     "shell.execute_reply": "2021-08-20T16:39:09.385144Z",
     "shell.execute_reply.started": "2021-08-20T16:39:09.382879Z"
    },
    "tags": []
   },
   "outputs": [],
   "source": [
    "file_path='/home/jovyan/project/neurips2021-notebooks/data/multiome/raw_data/filtered_feature_bc_matrix.annotated.h5ad'"
   ]
  },
  {
   "cell_type": "code",
   "execution_count": 16,
   "id": "8b09e247-e76c-40f6-bfc3-99b7ee22c407",
   "metadata": {
    "execution": {
     "iopub.execute_input": "2021-08-20T16:39:11.051954Z",
     "iopub.status.busy": "2021-08-20T16:39:11.051720Z",
     "iopub.status.idle": "2021-08-20T16:39:23.031921Z",
     "shell.execute_reply": "2021-08-20T16:39:23.031178Z",
     "shell.execute_reply.started": "2021-08-20T16:39:11.051931Z"
    },
    "tags": []
   },
   "outputs": [
    {
     "name": "stderr",
     "output_type": "stream",
     "text": [
      "Variable names are not unique. To make them unique, call `.var_names_make_unique`.\n"
     ]
    }
   ],
   "source": [
    "# Load the h5ad file (for the h5ad you don't need to gex_only argument)\n",
    "adata = sc.read_h5ad(file_path)"
   ]
  },
  {
   "cell_type": "code",
   "execution_count": 17,
   "id": "9b890bb4-c674-47b4-bb98-3ed2fbb8860d",
   "metadata": {
    "execution": {
     "iopub.execute_input": "2021-08-20T16:39:23.294480Z",
     "iopub.status.busy": "2021-08-20T16:39:23.294296Z",
     "iopub.status.idle": "2021-08-20T16:39:23.370016Z",
     "shell.execute_reply": "2021-08-20T16:39:23.369323Z",
     "shell.execute_reply.started": "2021-08-20T16:39:23.294459Z"
    },
    "tags": []
   },
   "outputs": [],
   "source": [
    "adata.var_names_make_unique()"
   ]
  },
  {
   "cell_type": "code",
   "execution_count": 18,
   "id": "b18416f7-e258-4eda-aeae-985385409eaf",
   "metadata": {
    "execution": {
     "iopub.execute_input": "2021-08-20T16:39:23.373192Z",
     "iopub.status.busy": "2021-08-20T16:39:23.373024Z",
     "iopub.status.idle": "2021-08-20T16:39:23.377007Z",
     "shell.execute_reply": "2021-08-20T16:39:23.376461Z",
     "shell.execute_reply.started": "2021-08-20T16:39:23.373172Z"
    },
    "tags": []
   },
   "outputs": [
    {
     "data": {
      "text/plain": [
       "AnnData object with n_obs × n_vars = 52081 × 194756\n",
       "    obs: 'site', 'donor'\n",
       "    var: 'gene_ids', 'feature_types', 'genome'"
      ]
     },
     "execution_count": 18,
     "metadata": {},
     "output_type": "execute_result"
    }
   ],
   "source": [
    "# Inspect the object\n",
    "adata"
   ]
  },
  {
   "cell_type": "code",
   "execution_count": 19,
   "id": "7aaaab98-0377-4504-978a-d9eedf43941f",
   "metadata": {
    "execution": {
     "iopub.execute_input": "2021-08-20T16:39:23.379776Z",
     "iopub.status.busy": "2021-08-20T16:39:23.379612Z",
     "iopub.status.idle": "2021-08-20T16:39:23.386525Z",
     "shell.execute_reply": "2021-08-20T16:39:23.385860Z",
     "shell.execute_reply.started": "2021-08-20T16:39:23.379756Z"
    },
    "tags": []
   },
   "outputs": [
    {
     "data": {
      "text/plain": [
       "Peaks              158155\n",
       "Gene Expression     36601\n",
       "Name: feature_types, dtype: int64"
      ]
     },
     "execution_count": 19,
     "metadata": {},
     "output_type": "execute_result"
    }
   ],
   "source": [
    "# Check what feature types here are\n",
    "adata.var['feature_types'].value_counts()"
   ]
  },
  {
   "cell_type": "code",
   "execution_count": 20,
   "id": "bde678b9-f6c2-4631-a242-689811cb9bf1",
   "metadata": {
    "execution": {
     "iopub.execute_input": "2021-08-20T16:39:23.390454Z",
     "iopub.status.busy": "2021-08-20T16:39:23.390293Z",
     "iopub.status.idle": "2021-08-20T16:39:23.396466Z",
     "shell.execute_reply": "2021-08-20T16:39:23.395946Z",
     "shell.execute_reply.started": "2021-08-20T16:39:23.390435Z"
    },
    "tags": []
   },
   "outputs": [
    {
     "name": "stdout",
     "output_type": "stream",
     "text": [
      "site2    24627\n",
      "site1    22409\n",
      "site3     5045\n",
      "Name: site, dtype: int64\n",
      "donor1    16410\n",
      "donor4    10062\n",
      "donor2     8341\n",
      "donor5     8246\n",
      "donor3     5626\n",
      "donor6     2355\n",
      "donor7     1041\n",
      "Name: donor, dtype: int64\n"
     ]
    }
   ],
   "source": [
    "# Print columns in the obs data\n",
    "print(adata.obs.site.value_counts())\n",
    "print(adata.obs.donor.value_counts())"
   ]
  },
  {
   "cell_type": "code",
   "execution_count": 21,
   "id": "02c3d7ce-7295-403c-981a-4f4a80cd094c",
   "metadata": {
    "execution": {
     "iopub.execute_input": "2021-08-20T16:39:23.640948Z",
     "iopub.status.busy": "2021-08-20T16:39:23.640711Z",
     "iopub.status.idle": "2021-08-20T16:39:23.658946Z",
     "shell.execute_reply": "2021-08-20T16:39:23.658114Z",
     "shell.execute_reply.started": "2021-08-20T16:39:23.640920Z"
    },
    "tags": []
   },
   "outputs": [],
   "source": [
    "adata.obs['donor_single'] = [s+' '+d for s,d in zip(adata.obs.site, adata.obs.donor)]"
   ]
  },
  {
   "cell_type": "code",
   "execution_count": 22,
   "id": "6ef8f60e-5d15-4224-b594-9221336bdab4",
   "metadata": {
    "execution": {
     "iopub.execute_input": "2021-08-20T16:39:23.677165Z",
     "iopub.status.busy": "2021-08-20T16:39:23.676916Z",
     "iopub.status.idle": "2021-08-20T16:39:23.691577Z",
     "shell.execute_reply": "2021-08-20T16:39:23.690709Z",
     "shell.execute_reply.started": "2021-08-20T16:39:23.677132Z"
    },
    "tags": []
   },
   "outputs": [
    {
     "data": {
      "text/plain": [
       "site2 donor4    10062\n",
       "site1 donor1     8442\n",
       "site1 donor2     8341\n",
       "site2 donor5     8246\n",
       "site2 donor1     6319\n",
       "site1 donor3     5626\n",
       "site3 donor6     2355\n",
       "site3 donor1     1649\n",
       "site3 donor7     1041\n",
       "Name: donor_single, dtype: int64"
      ]
     },
     "execution_count": 22,
     "metadata": {},
     "output_type": "execute_result"
    }
   ],
   "source": [
    "adata.obs['donor_single'].value_counts()"
   ]
  },
  {
   "cell_type": "code",
   "execution_count": 23,
   "id": "bd2fbe83-99f8-4d50-b4c1-627365bceb9b",
   "metadata": {
    "execution": {
     "iopub.execute_input": "2021-08-20T16:40:20.646916Z",
     "iopub.status.busy": "2021-08-20T16:40:20.646669Z",
     "iopub.status.idle": "2021-08-20T16:40:20.649873Z",
     "shell.execute_reply": "2021-08-20T16:40:20.649287Z",
     "shell.execute_reply.started": "2021-08-20T16:40:20.646891Z"
    },
    "tags": []
   },
   "outputs": [],
   "source": [
    "# Subset to the donor of interest and the feature type\n",
    "\n",
    "site = 'site1'\n",
    "donor = 'donor1'\n",
    "\n",
    "feature_type = 'Peaks'"
   ]
  },
  {
   "cell_type": "code",
   "execution_count": 24,
   "id": "57c3a977-3007-4c12-9eee-06201fb6887b",
   "metadata": {
    "execution": {
     "iopub.execute_input": "2021-08-20T16:40:21.237295Z",
     "iopub.status.busy": "2021-08-20T16:40:21.237062Z",
     "iopub.status.idle": "2021-08-20T16:40:21.267354Z",
     "shell.execute_reply": "2021-08-20T16:40:21.266739Z",
     "shell.execute_reply.started": "2021-08-20T16:40:21.237272Z"
    },
    "tags": []
   },
   "outputs": [],
   "source": [
    "adata_sub = adata[np.logical_and(adata.obs.site==site,\n",
    "                                adata.obs.donor==donor),:]"
   ]
  },
  {
   "cell_type": "code",
   "execution_count": 25,
   "id": "5ce10974-f591-4051-be4f-d7e695a90e41",
   "metadata": {
    "execution": {
     "iopub.execute_input": "2021-08-20T16:40:22.335511Z",
     "iopub.status.busy": "2021-08-20T16:40:22.335271Z",
     "iopub.status.idle": "2021-08-20T16:40:22.356371Z",
     "shell.execute_reply": "2021-08-20T16:40:22.355832Z",
     "shell.execute_reply.started": "2021-08-20T16:40:22.335488Z"
    },
    "tags": []
   },
   "outputs": [],
   "source": [
    "adata_sub = adata_sub[:,adata_sub.var.feature_types==feature_type]"
   ]
  },
  {
   "cell_type": "code",
   "execution_count": 26,
   "id": "fc1f656c-cc38-474e-a27c-d73ef410bf9d",
   "metadata": {
    "execution": {
     "iopub.execute_input": "2021-08-20T16:40:25.239809Z",
     "iopub.status.busy": "2021-08-20T16:40:25.239577Z",
     "iopub.status.idle": "2021-08-20T16:40:25.248094Z",
     "shell.execute_reply": "2021-08-20T16:40:25.247363Z",
     "shell.execute_reply.started": "2021-08-20T16:40:25.239785Z"
    },
    "tags": []
   },
   "outputs": [
    {
     "name": "stdout",
     "output_type": "stream",
     "text": [
      "Peaks    158155\n",
      "Name: feature_types, dtype: int64\n",
      "site1    8442\n",
      "Name: site, dtype: int64\n",
      "donor1    8442\n",
      "Name: donor, dtype: int64\n"
     ]
    }
   ],
   "source": [
    "# Let's check whether everthing worked\n",
    "print(adata_sub.var['feature_types'].value_counts())\n",
    "print(adata_sub.obs.site.value_counts())\n",
    "print(adata_sub.obs.donor.value_counts())"
   ]
  },
  {
   "cell_type": "code",
   "execution_count": 27,
   "id": "50111d7a-440c-4b8a-808a-8f6f981ddcd8",
   "metadata": {
    "execution": {
     "iopub.execute_input": "2021-08-20T16:40:30.563600Z",
     "iopub.status.busy": "2021-08-20T16:40:30.563296Z",
     "iopub.status.idle": "2021-08-20T16:40:33.293409Z",
     "shell.execute_reply": "2021-08-20T16:40:33.292754Z",
     "shell.execute_reply.started": "2021-08-20T16:40:30.563570Z"
    },
    "tags": []
   },
   "outputs": [
    {
     "name": "stderr",
     "output_type": "stream",
     "text": [
      "/srv/conda/envs/saturn/lib/python3.9/site-packages/anndata/_core/anndata.py:1228: ImplicitModificationWarning: Initializing view as actual.\n",
      "  warnings.warn(\n",
      "Trying to set attribute `.obs` of view, copying.\n",
      "... storing 'donor_single' as categorical\n"
     ]
    }
   ],
   "source": [
    "# Save subsetted adata\n",
    "\n",
    "output_path = '/home/jovyan/project/neurips2021-notebooks/data/multiome/raw_data/s1d1/s1d1_subset.h5ad'\n",
    "\n",
    "adata_sub.write_h5ad(output_path)"
   ]
  },
  {
   "cell_type": "code",
   "execution_count": null,
   "id": "eefe9afa-c6bc-4404-98e6-a038855d84d3",
   "metadata": {},
   "outputs": [],
   "source": []
  }
 ],
 "metadata": {
  "kernelspec": {
   "display_name": "saturn (Python 3)",
   "language": "python",
   "name": "python3"
  },
  "language_info": {
   "codemirror_mode": {
    "name": "ipython",
    "version": 3
   },
   "file_extension": ".py",
   "mimetype": "text/x-python",
   "name": "python",
   "nbconvert_exporter": "python",
   "pygments_lexer": "ipython3",
   "version": "3.9.6"
  }
 },
 "nbformat": 4,
 "nbformat_minor": 5
}
